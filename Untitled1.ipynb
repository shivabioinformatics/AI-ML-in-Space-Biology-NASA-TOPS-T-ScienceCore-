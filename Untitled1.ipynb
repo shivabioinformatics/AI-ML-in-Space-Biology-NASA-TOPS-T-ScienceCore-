{
  "nbformat": 4,
  "nbformat_minor": 0,
  "metadata": {
    "colab": {
      "provenance": [],
      "toc_visible": true,
      "authorship_tag": "ABX9TyMsnHaamsRrqUY9+OAPYh9o",
      "include_colab_link": true
    },
    "kernelspec": {
      "name": "python3",
      "display_name": "Python 3"
    },
    "language_info": {
      "name": "python"
    }
  },
  "cells": [
    {
      "cell_type": "markdown",
      "metadata": {
        "id": "view-in-github",
        "colab_type": "text"
      },
      "source": [
        "<a href=\"https://colab.research.google.com/github/shivabioinformatics/AI-ML-in-Space-Biology-NASA-TOPS-T-ScienceCore-/blob/main/Untitled1.ipynb\" target=\"_parent\"><img src=\"https://colab.research.google.com/assets/colab-badge.svg\" alt=\"Open In Colab\"/></a>"
      ]
    },
    {
      "cell_type": "code",
      "execution_count": null,
      "metadata": {
        "id": "nomVardHILFi"
      },
      "outputs": [],
      "source": []
    },
    {
      "cell_type": "markdown",
      "source": [
        "Here we are reading in methods from the methods.ipynb notebook that you copied into your Google Drive. You will be prompted to allow this notebook access to your Google Drive in order to read in the methods. Make sure to respond to all the prompts. The code in this cell may take a few minutes to run, so be patient.\n",
        "\n",
        "Install and import the import_ipynb module enabling the import of methods from remote notebooks, mount your google drive to this notebook, and import the methods from the methods.ipynb notebook"
      ],
      "metadata": {
        "id": "zhIdcIMdI46D"
      }
    },
    {
      "cell_type": "code",
      "execution_count": null,
      "metadata": {
        "id": "E4fJiLm19kY8"
      },
      "outputs": [],
      "source": [
        "%%capture\n",
        "!pip install import_ipynb\n",
        "import import_ipynb\n",
        "from google.colab import drive\n",
        "drive.flush_and_unmount()\n",
        "drive.mount(\"mnt\")\n",
        "m = __import__(\"mnt/MyDrive/Colab Notebooks/Copy of methods\")"
      ]
    },
    {
      "cell_type": "markdown",
      "source": [],
      "metadata": {
        "id": "MbSVEqcNI3o7"
      }
    }
  ]
}