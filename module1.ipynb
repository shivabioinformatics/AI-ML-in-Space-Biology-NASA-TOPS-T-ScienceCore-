{
  "nbformat": 4,
  "nbformat_minor": 0,
  "metadata": {
    "colab": {
      "provenance": [],
      "toc_visible": true,
      "authorship_tag": "ABX9TyPR4rBNUIDJIGxpg8f234EL",
      "include_colab_link": true
    },
    "kernelspec": {
      "name": "python3",
      "display_name": "Python 3"
    },
    "language_info": {
      "name": "python"
    }
  },
  "cells": [
    {
      "cell_type": "markdown",
      "metadata": {
        "id": "view-in-github",
        "colab_type": "text"
      },
      "source": [
        "<a href=\"https://colab.research.google.com/github/shivabioinformatics/AI-ML-in-Space-Biology-NASA-TOPS-T-ScienceCore-/blob/main/module1.ipynb\" target=\"_parent\"><img src=\"https://colab.research.google.com/assets/colab-badge.svg\" alt=\"Open In Colab\"/></a>"
      ]
    },
    {
      "cell_type": "markdown",
      "source": [
        "**Module 1**"
      ],
      "metadata": {
        "id": "talbF3BDwatA"
      }
    },
    {
      "cell_type": "markdown",
      "source": [
        " ---\n",
        "  In this notebook, we will be exploring [phenotypic](https://www.genome.gov/genetics-glossary/Phenotype) data that were collected during the NASA [Rodent Research 9 mission (RR9)](https://www.nasa.gov/ames/space-biosciences/rodent-research-9-spacex-12/). The goal of this scientific mission to the International Space Station was to study the effects of spaceflight on the eye and vision by collecting data on rodents flown in space. We will be using data from the following [NASA Open Science Data Repository](https://osdr.nasa.gov/bio/) RR9 datasets:\n",
        "1. [OSD-557](https://osdr.nasa.gov/bio/repo/data/studies/OSD-557) contains measurements from 10 male mice that were flown on board the International Space Station during the RR9 mission for 35 days. This dataset also contains data from two sets of control mice. The 10 \"Ground Control\" mice were housed on the ground for the duration of the flight in cages that replicate the spaceflight cages; while the 10 \"Vivarium Control\" mice were housed on the ground in the standard mouse vivarium cages to control for variability in housing. The eyes from each mouse were collected for analysis after return to Earth and euthanasia.\n",
        "\n",
        "2. [OSD-568](https://osdr.nasa.gov/bio/repo/data/studies/OSD-568) contains 3 different assays of microscopy imaging data: one for ZO, one PECAM, and one for TUNEL assays.  We will examine PECAM and TUNEL, each of which are described below.\n",
        "\n",
        "  [Terminal deoxynucleotidyl transferase dUTP nick end labeling](https://en.wikipedia.org/wiki/TUNEL_assay) (TUNEL) is an assay that that detects [apoptotic](https://en.wikipedia.org/wiki/Apoptosis) cells undergoing extensive DNA degredation.  \n",
        "[Platelet endothelial cell adhesion molecule](https://en.wikipedia.org/wiki/CD31) (PECAM) is a protein that functions as an adhesive stress-response to both maintain cell junctional integrity and speed restoration of [vascular permeability](https://en.wikipedia.org/wiki/Vascular_permeability).\n",
        "3. [OSD-583](https://osdr.nasa.gov/bio/repo/data/studies/OSD-583) provides measurements for [intra-ocular pressure](https://en.wikipedia.org/wiki/Intraocular_pressure) (IOP). Repeated intraocular pressure (IOP) measurements were performed before the flight launch and re-measured before the mice were euthanized after splashdown. Measurements of IOP using the rebound tonometer appeared to be well tolerated by the mice. The animals exhibited no signs of irritation or discomfort during the procedure. Sequential measurements were made to obtain an average of the counts as a single IOP readout for each mouse. This process was repeated three times for each eye.\n",
        "\n",
        "\n",
        "\n",
        "\n",
        "---\n",
        "\n",
        "\n",
        "\n",
        "These phenotypic datasets include data from several biological measurements including microcomputed tomography (OSD-557), immunostaining microscopy (OSD-568), and tonometry (OSD-583). All measurements were collected on both ground control and spaceflight rodent samples and converted to tabular format to enable data accessibility."
      ],
      "metadata": {
        "id": "SMU4gbG-NEF-"
      }
    },
    {
      "cell_type": "markdown",
      "source": [
        "## **Sample types**\n",
        "There are 3 types of samples that we will encounter in the RR9 datasets: spaceflight, ground control, and cohort control.  "
      ],
      "metadata": {
        "id": "xYgUbvwQMy7P"
      }
    },
    {
      "cell_type": "markdown",
      "source": [
        "Here we are reading in methods from the methods.ipynb notebook that you copied into your Google Drive. You will be prompted to allow this notebook access to your Google Drive in order to read in the methods. Make sure to respond to all the prompts. The code in this cell may take a few minutes to run, so be patient.\n",
        "\n",
        "Install and import the import_ipynb module enabling the import of methods from remote notebooks, mount your google drive to this notebook, and import the methods from the methods.ipynb notebook"
      ],
      "metadata": {
        "id": "zhIdcIMdI46D"
      }
    },
    {
      "cell_type": "markdown",
      "source": [],
      "metadata": {
        "id": "I_ARsDavMvEf"
      }
    },
    {
      "cell_type": "code",
      "execution_count": 2,
      "metadata": {
        "id": "E4fJiLm19kY8"
      },
      "outputs": [],
      "source": [
        "%%capture\n",
        "!pip install import_ipynb\n",
        "import import_ipynb\n",
        "from google.colab import drive\n",
        "drive.flush_and_unmount()\n",
        "drive.mount(\"mnt\")\n",
        "m = __import__(\"mnt/MyDrive/Colab Notebooks/Copy of methods\")"
      ]
    },
    {
      "cell_type": "markdown",
      "source": [
        "# OSD-557 microCT Datasets"
      ],
      "metadata": {
        "id": "8zRtQq--PtVi"
      }
    },
    {
      "cell_type": "markdown",
      "source": [
        "Here names with .1 = axial view, and without .1 = sagital view"
      ],
      "metadata": {
        "id": "iH8EVAb3VOBd"
      }
    },
    {
      "cell_type": "code",
      "source": [
        "\n",
        "import pandas as pd\n",
        "import import_ipynb\n",
        "from google.colab import drive\n",
        "\n",
        "# Install and import the import_ipynb module enabling the import of methods from remote notebooks, mount your google drive to this notebook, and import the methods from the methods.ipynb notebook\n",
        "!pip install import_ipynb\n",
        "drive.flush_and_unmount()\n",
        "drive.mount(\"mnt\")\n",
        "m = __import__(\"mnt/MyDrive/Colab Notebooks/Copy of methods\")\n",
        "\n",
        "#From Method File defining read_phynotype_data\n",
        "def read_phenotype_data(dataset, data):\n",
        "  url='https://osdr.nasa.gov//geode-py/ws/studies/OSD-' + str(dataset) + '/download?source=datamanager&file=' + data + '.csv'\n",
        "  df = pd.read_csv(url)\n",
        "  return df\n",
        "\n",
        "data=dict()\n",
        "data['microCT'] = m.read_phenotype_data('557', 'LSDS-1_microCT_MicroCT_Transformed_Reusable_Results')\n",
        "print('num records: ', len(data['microCT']))\n",
        "print('treatments: ', set(data['microCT']['Treatment']))\n",
        "data['microCT'].head()\n"
      ],
      "metadata": {
        "colab": {
          "base_uri": "https://localhost:8080/",
          "height": 744
        },
        "id": "tNSDJQP1YRL0",
        "outputId": "627039df-54c8-4716-d436-b736b2eedb77"
      },
      "execution_count": 3,
      "outputs": [
        {
          "output_type": "stream",
          "name": "stdout",
          "text": [
            "Requirement already satisfied: import_ipynb in /usr/local/lib/python3.11/dist-packages (0.2)\n",
            "Requirement already satisfied: IPython in /usr/local/lib/python3.11/dist-packages (from import_ipynb) (7.34.0)\n",
            "Requirement already satisfied: nbformat in /usr/local/lib/python3.11/dist-packages (from import_ipynb) (5.10.4)\n",
            "Requirement already satisfied: setuptools>=18.5 in /usr/local/lib/python3.11/dist-packages (from IPython->import_ipynb) (75.1.0)\n",
            "Requirement already satisfied: jedi>=0.16 in /usr/local/lib/python3.11/dist-packages (from IPython->import_ipynb) (0.19.2)\n",
            "Requirement already satisfied: decorator in /usr/local/lib/python3.11/dist-packages (from IPython->import_ipynb) (4.4.2)\n",
            "Requirement already satisfied: pickleshare in /usr/local/lib/python3.11/dist-packages (from IPython->import_ipynb) (0.7.5)\n",
            "Requirement already satisfied: traitlets>=4.2 in /usr/local/lib/python3.11/dist-packages (from IPython->import_ipynb) (5.7.1)\n",
            "Requirement already satisfied: prompt-toolkit!=3.0.0,!=3.0.1,<3.1.0,>=2.0.0 in /usr/local/lib/python3.11/dist-packages (from IPython->import_ipynb) (3.0.50)\n",
            "Requirement already satisfied: pygments in /usr/local/lib/python3.11/dist-packages (from IPython->import_ipynb) (2.18.0)\n",
            "Requirement already satisfied: backcall in /usr/local/lib/python3.11/dist-packages (from IPython->import_ipynb) (0.2.0)\n",
            "Requirement already satisfied: matplotlib-inline in /usr/local/lib/python3.11/dist-packages (from IPython->import_ipynb) (0.1.7)\n",
            "Requirement already satisfied: pexpect>4.3 in /usr/local/lib/python3.11/dist-packages (from IPython->import_ipynb) (4.9.0)\n",
            "Requirement already satisfied: fastjsonschema>=2.15 in /usr/local/lib/python3.11/dist-packages (from nbformat->import_ipynb) (2.21.1)\n",
            "Requirement already satisfied: jsonschema>=2.6 in /usr/local/lib/python3.11/dist-packages (from nbformat->import_ipynb) (4.23.0)\n",
            "Requirement already satisfied: jupyter-core!=5.0.*,>=4.12 in /usr/local/lib/python3.11/dist-packages (from nbformat->import_ipynb) (5.7.2)\n",
            "Requirement already satisfied: parso<0.9.0,>=0.8.4 in /usr/local/lib/python3.11/dist-packages (from jedi>=0.16->IPython->import_ipynb) (0.8.4)\n",
            "Requirement already satisfied: attrs>=22.2.0 in /usr/local/lib/python3.11/dist-packages (from jsonschema>=2.6->nbformat->import_ipynb) (25.1.0)\n",
            "Requirement already satisfied: jsonschema-specifications>=2023.03.6 in /usr/local/lib/python3.11/dist-packages (from jsonschema>=2.6->nbformat->import_ipynb) (2024.10.1)\n",
            "Requirement already satisfied: referencing>=0.28.4 in /usr/local/lib/python3.11/dist-packages (from jsonschema>=2.6->nbformat->import_ipynb) (0.36.2)\n",
            "Requirement already satisfied: rpds-py>=0.7.1 in /usr/local/lib/python3.11/dist-packages (from jsonschema>=2.6->nbformat->import_ipynb) (0.22.3)\n",
            "Requirement already satisfied: platformdirs>=2.5 in /usr/local/lib/python3.11/dist-packages (from jupyter-core!=5.0.*,>=4.12->nbformat->import_ipynb) (4.3.6)\n",
            "Requirement already satisfied: ptyprocess>=0.5 in /usr/local/lib/python3.11/dist-packages (from pexpect>4.3->IPython->import_ipynb) (0.7.0)\n",
            "Requirement already satisfied: wcwidth in /usr/local/lib/python3.11/dist-packages (from prompt-toolkit!=3.0.0,!=3.0.1,<3.1.0,>=2.0.0->IPython->import_ipynb) (0.2.13)\n",
            "Requirement already satisfied: typing-extensions>=4.4.0 in /usr/local/lib/python3.11/dist-packages (from referencing>=0.28.4->jsonschema>=2.6->nbformat->import_ipynb) (4.12.2)\n",
            "Mounted at mnt\n",
            "num records:  12\n",
            "treatments:  {'Vivarium', 'Flight', 'Ground Control'}\n"
          ]
        },
        {
          "output_type": "execute_result",
          "data": {
            "text/plain": [
              "  Source Name    Sample Name Treatment  Ant-Post   Sup-Inf  Retina  \\\n",
              "0         F10  F10_Mouse_Eye    Flight  1.765000  2.044000   0.077   \n",
              "1         F12  F12_Mouse_Eye    Flight  1.724000  2.028000   0.091   \n",
              "2         F13  F13_Mouse_Eye    Flight  1.754333  2.043667   0.089   \n",
              "3         F14  F14_Mouse_Eye    Flight  1.774000  2.059000   0.099   \n",
              "4         V10  V10_Mouse_Eye  Vivarium  1.771000  2.119000   0.145   \n",
              "\n",
              "   Pigment Layer   Choroid    Sclera  Ant-Post.1  Right-left  Retina.1  \\\n",
              "0          0.038  0.041000  0.059000    1.748000    1.997000  0.144000   \n",
              "1          0.048  0.036000  0.054000    1.720000    1.980000  0.087000   \n",
              "2          0.044  0.036333  0.054333    1.750333    1.969667  0.113667   \n",
              "3          0.046  0.032000  0.050000    1.783000    1.932000  0.110000   \n",
              "4          0.076  0.083000  0.109000    1.755000    2.089000  0.118000   \n",
              "\n",
              "   Pigment Layer.1  Choroid.1  Sclera.1  \n",
              "0         0.051000   0.041000  0.073000  \n",
              "1         0.041000   0.039000  0.057000  \n",
              "2         0.053667   0.038333  0.065333  \n",
              "3         0.069000   0.035000  0.066000  \n",
              "4         0.055000   0.061000  0.067000  "
            ],
            "text/html": [
              "\n",
              "  <div id=\"df-aacb0c8f-c3c5-44c9-a61c-05d3be7c5d34\" class=\"colab-df-container\">\n",
              "    <div>\n",
              "<style scoped>\n",
              "    .dataframe tbody tr th:only-of-type {\n",
              "        vertical-align: middle;\n",
              "    }\n",
              "\n",
              "    .dataframe tbody tr th {\n",
              "        vertical-align: top;\n",
              "    }\n",
              "\n",
              "    .dataframe thead th {\n",
              "        text-align: right;\n",
              "    }\n",
              "</style>\n",
              "<table border=\"1\" class=\"dataframe\">\n",
              "  <thead>\n",
              "    <tr style=\"text-align: right;\">\n",
              "      <th></th>\n",
              "      <th>Source Name</th>\n",
              "      <th>Sample Name</th>\n",
              "      <th>Treatment</th>\n",
              "      <th>Ant-Post</th>\n",
              "      <th>Sup-Inf</th>\n",
              "      <th>Retina</th>\n",
              "      <th>Pigment Layer</th>\n",
              "      <th>Choroid</th>\n",
              "      <th>Sclera</th>\n",
              "      <th>Ant-Post.1</th>\n",
              "      <th>Right-left</th>\n",
              "      <th>Retina.1</th>\n",
              "      <th>Pigment Layer.1</th>\n",
              "      <th>Choroid.1</th>\n",
              "      <th>Sclera.1</th>\n",
              "    </tr>\n",
              "  </thead>\n",
              "  <tbody>\n",
              "    <tr>\n",
              "      <th>0</th>\n",
              "      <td>F10</td>\n",
              "      <td>F10_Mouse_Eye</td>\n",
              "      <td>Flight</td>\n",
              "      <td>1.765000</td>\n",
              "      <td>2.044000</td>\n",
              "      <td>0.077</td>\n",
              "      <td>0.038</td>\n",
              "      <td>0.041000</td>\n",
              "      <td>0.059000</td>\n",
              "      <td>1.748000</td>\n",
              "      <td>1.997000</td>\n",
              "      <td>0.144000</td>\n",
              "      <td>0.051000</td>\n",
              "      <td>0.041000</td>\n",
              "      <td>0.073000</td>\n",
              "    </tr>\n",
              "    <tr>\n",
              "      <th>1</th>\n",
              "      <td>F12</td>\n",
              "      <td>F12_Mouse_Eye</td>\n",
              "      <td>Flight</td>\n",
              "      <td>1.724000</td>\n",
              "      <td>2.028000</td>\n",
              "      <td>0.091</td>\n",
              "      <td>0.048</td>\n",
              "      <td>0.036000</td>\n",
              "      <td>0.054000</td>\n",
              "      <td>1.720000</td>\n",
              "      <td>1.980000</td>\n",
              "      <td>0.087000</td>\n",
              "      <td>0.041000</td>\n",
              "      <td>0.039000</td>\n",
              "      <td>0.057000</td>\n",
              "    </tr>\n",
              "    <tr>\n",
              "      <th>2</th>\n",
              "      <td>F13</td>\n",
              "      <td>F13_Mouse_Eye</td>\n",
              "      <td>Flight</td>\n",
              "      <td>1.754333</td>\n",
              "      <td>2.043667</td>\n",
              "      <td>0.089</td>\n",
              "      <td>0.044</td>\n",
              "      <td>0.036333</td>\n",
              "      <td>0.054333</td>\n",
              "      <td>1.750333</td>\n",
              "      <td>1.969667</td>\n",
              "      <td>0.113667</td>\n",
              "      <td>0.053667</td>\n",
              "      <td>0.038333</td>\n",
              "      <td>0.065333</td>\n",
              "    </tr>\n",
              "    <tr>\n",
              "      <th>3</th>\n",
              "      <td>F14</td>\n",
              "      <td>F14_Mouse_Eye</td>\n",
              "      <td>Flight</td>\n",
              "      <td>1.774000</td>\n",
              "      <td>2.059000</td>\n",
              "      <td>0.099</td>\n",
              "      <td>0.046</td>\n",
              "      <td>0.032000</td>\n",
              "      <td>0.050000</td>\n",
              "      <td>1.783000</td>\n",
              "      <td>1.932000</td>\n",
              "      <td>0.110000</td>\n",
              "      <td>0.069000</td>\n",
              "      <td>0.035000</td>\n",
              "      <td>0.066000</td>\n",
              "    </tr>\n",
              "    <tr>\n",
              "      <th>4</th>\n",
              "      <td>V10</td>\n",
              "      <td>V10_Mouse_Eye</td>\n",
              "      <td>Vivarium</td>\n",
              "      <td>1.771000</td>\n",
              "      <td>2.119000</td>\n",
              "      <td>0.145</td>\n",
              "      <td>0.076</td>\n",
              "      <td>0.083000</td>\n",
              "      <td>0.109000</td>\n",
              "      <td>1.755000</td>\n",
              "      <td>2.089000</td>\n",
              "      <td>0.118000</td>\n",
              "      <td>0.055000</td>\n",
              "      <td>0.061000</td>\n",
              "      <td>0.067000</td>\n",
              "    </tr>\n",
              "  </tbody>\n",
              "</table>\n",
              "</div>\n",
              "    <div class=\"colab-df-buttons\">\n",
              "\n",
              "  <div class=\"colab-df-container\">\n",
              "    <button class=\"colab-df-convert\" onclick=\"convertToInteractive('df-aacb0c8f-c3c5-44c9-a61c-05d3be7c5d34')\"\n",
              "            title=\"Convert this dataframe to an interactive table.\"\n",
              "            style=\"display:none;\">\n",
              "\n",
              "  <svg xmlns=\"http://www.w3.org/2000/svg\" height=\"24px\" viewBox=\"0 -960 960 960\">\n",
              "    <path d=\"M120-120v-720h720v720H120Zm60-500h600v-160H180v160Zm220 220h160v-160H400v160Zm0 220h160v-160H400v160ZM180-400h160v-160H180v160Zm440 0h160v-160H620v160ZM180-180h160v-160H180v160Zm440 0h160v-160H620v160Z\"/>\n",
              "  </svg>\n",
              "    </button>\n",
              "\n",
              "  <style>\n",
              "    .colab-df-container {\n",
              "      display:flex;\n",
              "      gap: 12px;\n",
              "    }\n",
              "\n",
              "    .colab-df-convert {\n",
              "      background-color: #E8F0FE;\n",
              "      border: none;\n",
              "      border-radius: 50%;\n",
              "      cursor: pointer;\n",
              "      display: none;\n",
              "      fill: #1967D2;\n",
              "      height: 32px;\n",
              "      padding: 0 0 0 0;\n",
              "      width: 32px;\n",
              "    }\n",
              "\n",
              "    .colab-df-convert:hover {\n",
              "      background-color: #E2EBFA;\n",
              "      box-shadow: 0px 1px 2px rgba(60, 64, 67, 0.3), 0px 1px 3px 1px rgba(60, 64, 67, 0.15);\n",
              "      fill: #174EA6;\n",
              "    }\n",
              "\n",
              "    .colab-df-buttons div {\n",
              "      margin-bottom: 4px;\n",
              "    }\n",
              "\n",
              "    [theme=dark] .colab-df-convert {\n",
              "      background-color: #3B4455;\n",
              "      fill: #D2E3FC;\n",
              "    }\n",
              "\n",
              "    [theme=dark] .colab-df-convert:hover {\n",
              "      background-color: #434B5C;\n",
              "      box-shadow: 0px 1px 3px 1px rgba(0, 0, 0, 0.15);\n",
              "      filter: drop-shadow(0px 1px 2px rgba(0, 0, 0, 0.3));\n",
              "      fill: #FFFFFF;\n",
              "    }\n",
              "  </style>\n",
              "\n",
              "    <script>\n",
              "      const buttonEl =\n",
              "        document.querySelector('#df-aacb0c8f-c3c5-44c9-a61c-05d3be7c5d34 button.colab-df-convert');\n",
              "      buttonEl.style.display =\n",
              "        google.colab.kernel.accessAllowed ? 'block' : 'none';\n",
              "\n",
              "      async function convertToInteractive(key) {\n",
              "        const element = document.querySelector('#df-aacb0c8f-c3c5-44c9-a61c-05d3be7c5d34');\n",
              "        const dataTable =\n",
              "          await google.colab.kernel.invokeFunction('convertToInteractive',\n",
              "                                                    [key], {});\n",
              "        if (!dataTable) return;\n",
              "\n",
              "        const docLinkHtml = 'Like what you see? Visit the ' +\n",
              "          '<a target=\"_blank\" href=https://colab.research.google.com/notebooks/data_table.ipynb>data table notebook</a>'\n",
              "          + ' to learn more about interactive tables.';\n",
              "        element.innerHTML = '';\n",
              "        dataTable['output_type'] = 'display_data';\n",
              "        await google.colab.output.renderOutput(dataTable, element);\n",
              "        const docLink = document.createElement('div');\n",
              "        docLink.innerHTML = docLinkHtml;\n",
              "        element.appendChild(docLink);\n",
              "      }\n",
              "    </script>\n",
              "  </div>\n",
              "\n",
              "\n",
              "<div id=\"df-e83377a7-8fc0-4309-bc8c-05682bd43711\">\n",
              "  <button class=\"colab-df-quickchart\" onclick=\"quickchart('df-e83377a7-8fc0-4309-bc8c-05682bd43711')\"\n",
              "            title=\"Suggest charts\"\n",
              "            style=\"display:none;\">\n",
              "\n",
              "<svg xmlns=\"http://www.w3.org/2000/svg\" height=\"24px\"viewBox=\"0 0 24 24\"\n",
              "     width=\"24px\">\n",
              "    <g>\n",
              "        <path d=\"M19 3H5c-1.1 0-2 .9-2 2v14c0 1.1.9 2 2 2h14c1.1 0 2-.9 2-2V5c0-1.1-.9-2-2-2zM9 17H7v-7h2v7zm4 0h-2V7h2v10zm4 0h-2v-4h2v4z\"/>\n",
              "    </g>\n",
              "</svg>\n",
              "  </button>\n",
              "\n",
              "<style>\n",
              "  .colab-df-quickchart {\n",
              "      --bg-color: #E8F0FE;\n",
              "      --fill-color: #1967D2;\n",
              "      --hover-bg-color: #E2EBFA;\n",
              "      --hover-fill-color: #174EA6;\n",
              "      --disabled-fill-color: #AAA;\n",
              "      --disabled-bg-color: #DDD;\n",
              "  }\n",
              "\n",
              "  [theme=dark] .colab-df-quickchart {\n",
              "      --bg-color: #3B4455;\n",
              "      --fill-color: #D2E3FC;\n",
              "      --hover-bg-color: #434B5C;\n",
              "      --hover-fill-color: #FFFFFF;\n",
              "      --disabled-bg-color: #3B4455;\n",
              "      --disabled-fill-color: #666;\n",
              "  }\n",
              "\n",
              "  .colab-df-quickchart {\n",
              "    background-color: var(--bg-color);\n",
              "    border: none;\n",
              "    border-radius: 50%;\n",
              "    cursor: pointer;\n",
              "    display: none;\n",
              "    fill: var(--fill-color);\n",
              "    height: 32px;\n",
              "    padding: 0;\n",
              "    width: 32px;\n",
              "  }\n",
              "\n",
              "  .colab-df-quickchart:hover {\n",
              "    background-color: var(--hover-bg-color);\n",
              "    box-shadow: 0 1px 2px rgba(60, 64, 67, 0.3), 0 1px 3px 1px rgba(60, 64, 67, 0.15);\n",
              "    fill: var(--button-hover-fill-color);\n",
              "  }\n",
              "\n",
              "  .colab-df-quickchart-complete:disabled,\n",
              "  .colab-df-quickchart-complete:disabled:hover {\n",
              "    background-color: var(--disabled-bg-color);\n",
              "    fill: var(--disabled-fill-color);\n",
              "    box-shadow: none;\n",
              "  }\n",
              "\n",
              "  .colab-df-spinner {\n",
              "    border: 2px solid var(--fill-color);\n",
              "    border-color: transparent;\n",
              "    border-bottom-color: var(--fill-color);\n",
              "    animation:\n",
              "      spin 1s steps(1) infinite;\n",
              "  }\n",
              "\n",
              "  @keyframes spin {\n",
              "    0% {\n",
              "      border-color: transparent;\n",
              "      border-bottom-color: var(--fill-color);\n",
              "      border-left-color: var(--fill-color);\n",
              "    }\n",
              "    20% {\n",
              "      border-color: transparent;\n",
              "      border-left-color: var(--fill-color);\n",
              "      border-top-color: var(--fill-color);\n",
              "    }\n",
              "    30% {\n",
              "      border-color: transparent;\n",
              "      border-left-color: var(--fill-color);\n",
              "      border-top-color: var(--fill-color);\n",
              "      border-right-color: var(--fill-color);\n",
              "    }\n",
              "    40% {\n",
              "      border-color: transparent;\n",
              "      border-right-color: var(--fill-color);\n",
              "      border-top-color: var(--fill-color);\n",
              "    }\n",
              "    60% {\n",
              "      border-color: transparent;\n",
              "      border-right-color: var(--fill-color);\n",
              "    }\n",
              "    80% {\n",
              "      border-color: transparent;\n",
              "      border-right-color: var(--fill-color);\n",
              "      border-bottom-color: var(--fill-color);\n",
              "    }\n",
              "    90% {\n",
              "      border-color: transparent;\n",
              "      border-bottom-color: var(--fill-color);\n",
              "    }\n",
              "  }\n",
              "</style>\n",
              "\n",
              "  <script>\n",
              "    async function quickchart(key) {\n",
              "      const quickchartButtonEl =\n",
              "        document.querySelector('#' + key + ' button');\n",
              "      quickchartButtonEl.disabled = true;  // To prevent multiple clicks.\n",
              "      quickchartButtonEl.classList.add('colab-df-spinner');\n",
              "      try {\n",
              "        const charts = await google.colab.kernel.invokeFunction(\n",
              "            'suggestCharts', [key], {});\n",
              "      } catch (error) {\n",
              "        console.error('Error during call to suggestCharts:', error);\n",
              "      }\n",
              "      quickchartButtonEl.classList.remove('colab-df-spinner');\n",
              "      quickchartButtonEl.classList.add('colab-df-quickchart-complete');\n",
              "    }\n",
              "    (() => {\n",
              "      let quickchartButtonEl =\n",
              "        document.querySelector('#df-e83377a7-8fc0-4309-bc8c-05682bd43711 button');\n",
              "      quickchartButtonEl.style.display =\n",
              "        google.colab.kernel.accessAllowed ? 'block' : 'none';\n",
              "    })();\n",
              "  </script>\n",
              "</div>\n",
              "\n",
              "    </div>\n",
              "  </div>\n"
            ],
            "application/vnd.google.colaboratory.intrinsic+json": {
              "type": "dataframe",
              "summary": "{\n  \"name\": \"data['microCT']\",\n  \"rows\": 5,\n  \"fields\": [\n    {\n      \"column\": \"Source Name\",\n      \"properties\": {\n        \"dtype\": \"string\",\n        \"num_unique_values\": 5,\n        \"samples\": [\n          \"F12\",\n          \"V10\",\n          \"F13\"\n        ],\n        \"semantic_type\": \"\",\n        \"description\": \"\"\n      }\n    },\n    {\n      \"column\": \"Sample Name\",\n      \"properties\": {\n        \"dtype\": \"string\",\n        \"num_unique_values\": 5,\n        \"samples\": [\n          \"F12_Mouse_Eye\",\n          \"V10_Mouse_Eye\",\n          \"F13_Mouse_Eye\"\n        ],\n        \"semantic_type\": \"\",\n        \"description\": \"\"\n      }\n    },\n    {\n      \"column\": \"Treatment\",\n      \"properties\": {\n        \"dtype\": \"category\",\n        \"num_unique_values\": 2,\n        \"samples\": [\n          \"Vivarium\",\n          \"Flight\"\n        ],\n        \"semantic_type\": \"\",\n        \"description\": \"\"\n      }\n    },\n    {\n      \"column\": \"Ant-Post\",\n      \"properties\": {\n        \"dtype\": \"number\",\n        \"std\": 0.020266282904809592,\n        \"min\": 1.724,\n        \"max\": 1.774,\n        \"num_unique_values\": 5,\n        \"samples\": [\n          1.724,\n          1.771\n        ],\n        \"semantic_type\": \"\",\n        \"description\": \"\"\n      }\n    },\n    {\n      \"column\": \"Sup-Inf\",\n      \"properties\": {\n        \"dtype\": \"number\",\n        \"std\": 0.03542864499776675,\n        \"min\": 2.028,\n        \"max\": 2.119,\n        \"num_unique_values\": 5,\n        \"samples\": [\n          2.028,\n          2.119\n        ],\n        \"semantic_type\": \"\",\n        \"description\": \"\"\n      }\n    },\n    {\n      \"column\": \"Retina\",\n      \"properties\": {\n        \"dtype\": \"number\",\n        \"std\": 0.026252618916976642,\n        \"min\": 0.077,\n        \"max\": 0.145,\n        \"num_unique_values\": 5,\n        \"samples\": [\n          0.091,\n          0.145\n        ],\n        \"semantic_type\": \"\",\n        \"description\": \"\"\n      }\n    },\n    {\n      \"column\": \"Pigment Layer\",\n      \"properties\": {\n        \"dtype\": \"number\",\n        \"std\": 0.014791889669680477,\n        \"min\": 0.038,\n        \"max\": 0.076,\n        \"num_unique_values\": 5,\n        \"samples\": [\n          0.048,\n          0.076\n        ],\n        \"semantic_type\": \"\",\n        \"description\": \"\"\n      }\n    },\n    {\n      \"column\": \"Choroid\",\n      \"properties\": {\n        \"dtype\": \"number\",\n        \"std\": 0.021112134514960298,\n        \"min\": 0.032,\n        \"max\": 0.083,\n        \"num_unique_values\": 5,\n        \"samples\": [\n          0.036,\n          0.083\n        ],\n        \"semantic_type\": \"\",\n        \"description\": \"\"\n      }\n    },\n    {\n      \"column\": \"Sclera\",\n      \"properties\": {\n        \"dtype\": \"number\",\n        \"std\": 0.024654726876965762,\n        \"min\": 0.05,\n        \"max\": 0.109,\n        \"num_unique_values\": 5,\n        \"samples\": [\n          0.054,\n          0.109\n        ],\n        \"semantic_type\": \"\",\n        \"description\": \"\"\n      }\n    },\n    {\n      \"column\": \"Ant-Post.1\",\n      \"properties\": {\n        \"dtype\": \"number\",\n        \"std\": 0.022417007435823737,\n        \"min\": 1.72,\n        \"max\": 1.783,\n        \"num_unique_values\": 5,\n        \"samples\": [\n          1.72,\n          1.755\n        ],\n        \"semantic_type\": \"\",\n        \"description\": \"\"\n      }\n    },\n    {\n      \"column\": \"Right-left\",\n      \"properties\": {\n        \"dtype\": \"number\",\n        \"std\": 0.058448742942665395,\n        \"min\": 1.932,\n        \"max\": 2.089,\n        \"num_unique_values\": 5,\n        \"samples\": [\n          1.98,\n          2.089\n        ],\n        \"semantic_type\": \"\",\n        \"description\": \"\"\n      }\n    },\n    {\n      \"column\": \"Retina.1\",\n      \"properties\": {\n        \"dtype\": \"number\",\n        \"std\": 0.02036963971399047,\n        \"min\": 0.087,\n        \"max\": 0.144,\n        \"num_unique_values\": 5,\n        \"samples\": [\n          0.087,\n          0.118\n        ],\n        \"semantic_type\": \"\",\n        \"description\": \"\"\n      }\n    },\n    {\n      \"column\": \"Pigment Layer.1\",\n      \"properties\": {\n        \"dtype\": \"number\",\n        \"std\": 0.010050981154980734,\n        \"min\": 0.041,\n        \"max\": 0.069,\n        \"num_unique_values\": 5,\n        \"samples\": [\n          0.041,\n          0.055\n        ],\n        \"semantic_type\": \"\",\n        \"description\": \"\"\n      }\n    },\n    {\n      \"column\": \"Choroid.1\",\n      \"properties\": {\n        \"dtype\": \"number\",\n        \"std\": 0.010364469256926656,\n        \"min\": 0.035,\n        \"max\": 0.061,\n        \"num_unique_values\": 5,\n        \"samples\": [\n          0.039,\n          0.061\n        ],\n        \"semantic_type\": \"\",\n        \"description\": \"\"\n      }\n    },\n    {\n      \"column\": \"Sclera.1\",\n      \"properties\": {\n        \"dtype\": \"number\",\n        \"std\": 0.00572033410543281,\n        \"min\": 0.057,\n        \"max\": 0.073,\n        \"num_unique_values\": 5,\n        \"samples\": [\n          0.057,\n          0.067\n        ],\n        \"semantic_type\": \"\",\n        \"description\": \"\"\n      }\n    }\n  ]\n}"
            }
          },
          "metadata": {},
          "execution_count": 3
        }
      ]
    },
    {
      "cell_type": "markdown",
      "source": [
        "Exploring Ant-Post field of the micro CT data for ground and spaceflight samples using **Box Plot** and **Whisker Plos**.\n",
        "\n",
        "```\n",
        "# This is formatted as code\n",
        "```\n",
        "\n"
      ],
      "metadata": {
        "id": "Di8SCGl5iU-E"
      }
    },
    {
      "cell_type": "code",
      "source": [
        "# Reading all the available fields\n",
        "print(data['microCT'].columns)\n"
      ],
      "metadata": {
        "colab": {
          "base_uri": "https://localhost:8080/"
        },
        "id": "lKgp4GN7idMZ",
        "outputId": "95aa593a-a56c-4f7d-a27c-1233ff26085f"
      },
      "execution_count": 7,
      "outputs": [
        {
          "output_type": "stream",
          "name": "stdout",
          "text": [
            "Index(['Source Name', 'Sample Name', 'Treatment', 'Ant-Post', 'Sup-Inf',\n",
            "       'Retina', 'Pigment Layer', 'Choroid', 'Sclera', 'Ant-Post.1',\n",
            "       'Right-left', 'Retina.1', 'Pigment Layer.1', 'Choroid.1', 'Sclera.1'],\n",
            "      dtype='object')\n"
          ]
        }
      ]
    },
    {
      "cell_type": "code",
      "source": [
        "fields_of_interest = ['Ant-Post', 'Ant-Post.1']\n",
        "df_selected = data['microCT'][fields_of_interest]\n",
        "print(df_selected.head())\n"
      ],
      "metadata": {
        "colab": {
          "base_uri": "https://localhost:8080/"
        },
        "id": "nyR2bOCejF42",
        "outputId": "8c3a1f9a-b763-4c49-eb36-b4d01d769481"
      },
      "execution_count": 8,
      "outputs": [
        {
          "output_type": "stream",
          "name": "stdout",
          "text": [
            "   Ant-Post  Ant-Post.1\n",
            "0  1.765000    1.748000\n",
            "1  1.724000    1.720000\n",
            "2  1.754333    1.750333\n",
            "3  1.774000    1.783000\n",
            "4  1.771000    1.755000\n"
          ]
        }
      ]
    },
    {
      "cell_type": "markdown",
      "source": [
        "## Anterior-Posterior"
      ],
      "metadata": {
        "id": "9OG7-eLgpTPH"
      }
    },
    {
      "cell_type": "code",
      "source": [
        "def plotbox_and_stats(data_, sample_key, field, treatment, space, exclude_samples=[]):\n",
        "  print('field: ', field)\n",
        "  print('excluding samples: ', exclude_samples)\n",
        "  fieldValues = set(data_[field])\n",
        "  value_dict=dict()\n",
        "  results = dict()\n",
        "\n",
        "  flight = str(field) + '_flight'\n",
        "  nonflight= str(field) + '_nonflight'\n",
        "  results[field] = dict()\n",
        "  value_dict[flight] = list()\n",
        "  value_dict[nonflight] = list()\n",
        "  for i in range(len(data_)):\n",
        "    if data_.iloc[i][sample_key] in exclude_samples:\n",
        "      continue\n",
        "    elif treatment is None:\n",
        "      if data_.iloc[i][sample_key].startswith('F'):\n",
        "        value_dict[flight].append(data_.iloc[i][field])\n",
        "      else:\n",
        "        value_dict[nonflight].append(data_.iloc[i][field])\n",
        "    else:\n",
        "      if data_.iloc[i][treatment] == space:\n",
        "        value_dict[flight].append(data_.iloc[i][field])\n",
        "      else:\n",
        "        value_dict[nonflight].append(data_.iloc[i][field])\n",
        "\n",
        "\n",
        "  if len(value_dict[flight]) != 0 and len(value_dict[nonflight]) != 0:\n",
        "    results[field]['t-test p-value'] = float('%.5f' % (stats.ttest_ind(value_dict[flight], value_dict[nonflight], equal_var=False).pvalue))\n",
        "    #results[field]['wilcoxon p-value'] = float('%.5f' % (stats.ranksums(value_dict[flight], value_dict[nonflight]).pvalue))\n",
        "    #results[field]['ks-test p-value'] = float('%.5f' % (stats.kstest(value_dict[flight], value_dict[nonflight]).pvalue))\n",
        "\n",
        "\n",
        "  print(results)\n",
        "  print('n flight = ', len(value_dict[flight]))\n",
        "  print('n nonflight = ', len(value_dict[nonflight]))\n",
        "  fig,ax = plt.subplots()\n",
        "  ax.boxplot(value_dict.values())\n",
        "  ax.set_xticklabels(value_dict.keys())\n",
        "  #plt.setp(ax.get_xticklabels(), rotation=30, horizontalalignment='right')\n",
        "  plt.xticks(rotation=30, ha='right')\n",
        "\n",
        "\n",
        "\n",
        "  plt.show()\n",
        "\n",
        "\n",
        "m.plotbox_and_stats(data_=data['microCT'], sample_key = 'Source Name', field='Ant-Post', treatment='Treatment', space='Flight', exclude_samples=[])\n",
        "m.plotbox_and_stats(data_=data['microCT'], sample_key = 'Source Name', field='Ant-Post.1', treatment='Treatment', space='Flight', exclude_samples=[])\n"
      ],
      "metadata": {
        "colab": {
          "base_uri": "https://localhost:8080/",
          "height": 1000
        },
        "id": "lH3aB6rjntMv",
        "outputId": "071f210d-8af9-4910-cb7a-7c799b1b7f0b"
      },
      "execution_count": 9,
      "outputs": [
        {
          "output_type": "stream",
          "name": "stdout",
          "text": [
            "field:  Ant-Post\n",
            "excluding samples:  []\n",
            "{'Ant-Post': {'t-test p-value': 0.14175}}\n",
            "n flight =  4\n",
            "n nonflight =  8\n"
          ]
        },
        {
          "output_type": "display_data",
          "data": {
            "text/plain": [
              "<Figure size 640x480 with 1 Axes>"
            ],
            "image/png": "[encoded data removed]"
          },
          "metadata": {}
        },
        {
          "output_type": "stream",
          "name": "stdout",
          "text": [
            "field:  Ant-Post.1\n",
            "excluding samples:  []\n",
            "{'Ant-Post.1': {'t-test p-value': 0.49605}}\n",
            "n flight =  4\n",
            "n nonflight =  8\n"
          ]
        },
        {
          "output_type": "display_data",
          "data": {
            "text/plain": [
              "<Figure size 640x480 with 1 Axes>"
            ],
            "image/png": "[encoded data removed]"
          },
          "metadata": {}
        }
      ]
    },
    {
      "cell_type": "markdown",
      "source": [
        "Exploring **Superior-Inferior Measurement** field of the micro CT data for ground and spaceflight samples using **Box Plot** and **Whisker Plos**.\n"
      ],
      "metadata": {
        "id": "zJvV6deLorT-"
      }
    },
    {
      "cell_type": "markdown",
      "source": [
        "## Superior-Inferior Measurement"
      ],
      "metadata": {
        "id": "14IURglWpbaj"
      }
    },
    {
      "cell_type": "code",
      "source": [
        "m.plotbox_and_stats(data_=data['microCT'], sample_key = 'Source Name', field='Sup-Inf', treatment='Treatment', space='Flight', exclude_samples=[])"
      ],
      "metadata": {
        "colab": {
          "base_uri": "https://localhost:8080/",
          "height": 576
        },
        "id": "3XM_MIiIorDY",
        "outputId": "0d95e38b-408d-4629-c4a5-dfe4953c7cc8"
      },
      "execution_count": 10,
      "outputs": [
        {
          "output_type": "stream",
          "name": "stdout",
          "text": [
            "field:  Sup-Inf\n",
            "excluding samples:  []\n",
            "{'Sup-Inf': {'t-test p-value': 0.52282}}\n",
            "n flight =  4\n",
            "n nonflight =  8\n"
          ]
        },
        {
          "output_type": "display_data",
          "data": {
            "text/plain": [
              "<Figure size 640x480 with 1 Axes>"
            ],
            "image/png": "[encoded data removed]"
          },
          "metadata": {}
        }
      ]
    },
    {
      "cell_type": "markdown",
      "source": [
        "## Retina Measurement"
      ],
      "metadata": {
        "id": "LOA-GrDGphK7"
      }
    },
    {
      "cell_type": "code",
      "source": [
        "m.plotbox_and_stats(data_=data['microCT'],  sample_key = 'Source Name', field='Retina', treatment='Treatment', space='Flight', exclude_samples=[])\n",
        "m.plotbox_and_stats(data_=data['microCT'],  sample_key = 'Source Name', field='Retina.1', treatment='Treatment', space='Flight', exclude_samples=[])"
      ],
      "metadata": {
        "colab": {
          "base_uri": "https://localhost:8080/",
          "height": 1000
        },
        "id": "EZ-XLsexpnHh",
        "outputId": "1582c898-c419-45bd-98aa-5f8a04dc720c"
      },
      "execution_count": 11,
      "outputs": [
        {
          "output_type": "stream",
          "name": "stdout",
          "text": [
            "field:  Retina\n",
            "excluding samples:  []\n",
            "{'Retina': {'t-test p-value': 0.00796}}\n",
            "n flight =  4\n",
            "n nonflight =  8\n"
          ]
        },
        {
          "output_type": "display_data",
          "data": {
            "text/plain": [
              "<Figure size 640x480 with 1 Axes>"
            ],
            "image/png": "[encoded data removed]"
          },
          "metadata": {}
        },
        {
          "output_type": "stream",
          "name": "stdout",
          "text": [
            "field:  Retina.1\n",
            "excluding samples:  []\n",
            "{'Retina.1': {'t-test p-value': 0.82328}}\n",
            "n flight =  4\n",
            "n nonflight =  8\n"
          ]
        },
        {
          "output_type": "display_data",
          "data": {
            "text/plain": [
              "<Figure size 640x480 with 1 Axes>"
            ],
            "image/png": "[encoded data removed]"
          },
          "metadata": {}
        }
      ]
    },
    {
      "cell_type": "markdown",
      "source": [
        "## Pigment layer Measurement"
      ],
      "metadata": {
        "id": "PJMLfueepyUz"
      }
    },
    {
      "cell_type": "code",
      "source": [
        "m.plotbox_and_stats(data_=data['microCT'], sample_key = 'Source Name', field='Pigment Layer', treatment='Treatment', space='Flight', exclude_samples=[])\n",
        "m.plotbox_and_stats(data_=data['microCT'], sample_key = 'Source Name', field='Pigment Layer.1', treatment='Treatment', space='Flight', exclude_samples=[])"
      ],
      "metadata": {
        "colab": {
          "base_uri": "https://localhost:8080/",
          "height": 1000
        },
        "id": "fpbFMHfVp28j",
        "outputId": "24fde286-5be3-46a7-9022-999900fcb038"
      },
      "execution_count": null,
      "outputs": [
        {
          "output_type": "stream",
          "name": "stdout",
          "text": [
            "field:  Pigment Layer\n",
            "excluding samples:  []\n",
            "{'Pigment Layer': {'t-test p-value': 0.01535}}\n",
            "n flight =  4\n",
            "n nonflight =  8\n"
          ]
        },
        {
          "output_type": "display_data",
          "data": {
            "text/plain": [
              "<Figure size 640x480 with 1 Axes>"
            ],
            "image/png": "[encoded data removed]"
          },
          "metadata": {}
        },
        {
          "output_type": "stream",
          "name": "stdout",
          "text": [
            "field:  Pigment Layer.1\n",
            "excluding samples:  []\n",
            "{'Pigment Layer.1': {'t-test p-value': 0.98999}}\n",
            "n flight =  4\n",
            "n nonflight =  8\n"
          ]
        },
        {
          "output_type": "display_data",
          "data": {
            "text/plain": [
              "<Figure size 640x480 with 1 Axes>"
            ],
            "image/png": "[encoded data removed]"
          },
          "metadata": {}
        }
      ]
    },
    {
      "cell_type": "markdown",
      "source": [
        "## Choroid Measurement"
      ],
      "metadata": {
        "id": "gI8KyMY4p9Vi"
      }
    },
    {
      "cell_type": "code",
      "source": [
        "m.plotbox_and_stats(data_=data['microCT'], sample_key = 'Source Name', field='Choroid', treatment='Treatment', space='Flight', exclude_samples=[])\n",
        "m.plotbox_and_stats(data_=data['microCT'], sample_key = 'Source Name', field='Choroid.1', treatment='Treatment', space='Flight', exclude_samples=[])"
      ],
      "metadata": {
        "colab": {
          "base_uri": "https://localhost:8080/",
          "height": 1000
        },
        "id": "VL30xfU8qABW",
        "outputId": "219acda7-666a-42fa-abd2-a45f95b355c9"
      },
      "execution_count": null,
      "outputs": [
        {
          "output_type": "stream",
          "name": "stdout",
          "text": [
            "field:  Choroid\n",
            "excluding samples:  []\n",
            "{'Choroid': {'t-test p-value': 0.01249}}\n",
            "n flight =  4\n",
            "n nonflight =  8\n"
          ]
        },
        {
          "output_type": "display_data",
          "data": {
            "text/plain": [
              "<Figure size 640x480 with 1 Axes>"
            ],
            "image/png": "[encoded data removed]"
          },
          "metadata": {}
        },
        {
          "output_type": "stream",
          "name": "stdout",
          "text": [
            "field:  Choroid.1\n",
            "excluding samples:  []\n",
            "{'Choroid.1': {'t-test p-value': 0.00862}}\n",
            "n flight =  4\n",
            "n nonflight =  8\n"
          ]
        },
        {
          "output_type": "display_data",
          "data": {
            "text/plain": [
              "<Figure size 640x480 with 1 Axes>"
            ],
            "image/png": "[encoded data removed]"
          },
          "metadata": {}
        }
      ]
    },
    {
      "cell_type": "markdown",
      "source": [
        "## Sclera Measurement"
      ],
      "metadata": {
        "id": "1YU_x0ixqIux"
      }
    },
    {
      "cell_type": "code",
      "source": [
        "m.plotbox_and_stats(data_=data['microCT'], sample_key = 'Source Name', field='Sclera', treatment='Treatment', space='Flight', exclude_samples=[])\n",
        "m.plotbox_and_stats(data_=data['microCT'], sample_key = 'Source Name', field='Sclera.1', treatment='Treatment', space='Flight', exclude_samples=[])"
      ],
      "metadata": {
        "colab": {
          "base_uri": "https://localhost:8080/",
          "height": 1000
        },
        "id": "mjnovQGYqKDr",
        "outputId": "f31e4573-08db-4d13-a8e9-de4cf30df741"
      },
      "execution_count": null,
      "outputs": [
        {
          "output_type": "stream",
          "name": "stdout",
          "text": [
            "field:  Sclera\n",
            "excluding samples:  []\n",
            "{'Sclera': {'t-test p-value': 0.0026}}\n",
            "n flight =  4\n",
            "n nonflight =  8\n"
          ]
        },
        {
          "output_type": "display_data",
          "data": {
            "text/plain": [
              "<Figure size 640x480 with 1 Axes>"
            ],
            "image/png": "[encoded data removed]"
          },
          "metadata": {}
        },
        {
          "output_type": "stream",
          "name": "stdout",
          "text": [
            "field:  Sclera.1\n",
            "excluding samples:  []\n",
            "{'Sclera.1': {'t-test p-value': 0.18301}}\n",
            "n flight =  4\n",
            "n nonflight =  8\n"
          ]
        },
        {
          "output_type": "display_data",
          "data": {
            "text/plain": [
              "<Figure size 640x480 with 1 Axes>"
            ],
            "image/png": "[encoded data removed]"
          },
          "metadata": {}
        }
      ]
    },
    {
      "cell_type": "markdown",
      "source": [
        "**QUESTIONS**\n",
        "\n",
        "\n",
        "1. Which measurements had a statistically significant difference in distribution between flight and ground samples for all 3 tests?\n",
        "\n",
        "Based on the p-value, the Retine, Choroid and Sclera measurement had sttistically significant.  \n",
        "\n",
        "\n",
        "2. Based on the statistical tests we did on the microCT data, which measurement seems to have the most prominent distinction between space flight and ground samples?\n",
        "2. Based on the statistical tests we did on the microCT data, which measurement seems to have the most prominent distinction between space flight and ground samples? Sclera measurement since it was the lowest p-valaue among all, meanining probably the most statistically signficant measurment between fligth and none-flight\n",
        "3. What are reasons to include or exclude samples from the Vivarium treatment?"
      ],
      "metadata": {
        "id": "49QB7qtZqQVZ"
      }
    },
    {
      "cell_type": "markdown",
      "source": [
        "# OSD-557 Immunostaining Microscopy Datasets"
      ],
      "metadata": {
        "id": "tEZXFQzy7ogY"
      }
    },
    {
      "cell_type": "markdown",
      "source": [
        "HNE or hydroxynonenal is a colorless oil that is produced by lipid oxidation. It is found in animal tissues in higher quantities during oxidative stress. It is considered a possible causal agent of numerous diseases including chronic inflammation, neurodegenerative disorders, and cancer. Spaceflight causes photoreceptor degradation and oxidative stress. Immunofluorescence staining for HNE marker is red."
      ],
      "metadata": {
        "id": "tvycROEm8VpJ"
      }
    },
    {
      "cell_type": "markdown",
      "source": [
        "For each section on the retina slide, they selected 5 areas for counting.  These 5 areas were used subsequently in their quantitative analysis.\n",
        "\n",
        "`sumcount`: total HNE positive cells in these five regions.\n",
        "\n",
        "`sumEC`: total HNE positive endothelial cells in the same five regions.\n",
        "\n",
        "`sunarea`: total areas for these five regions.\n",
        "\n",
        "`dentotal`: HNE positive cell density.\n",
        "\n",
        "`denEC`: HNE positive Endothelial cell density.\n",
        "\n",
        "Read in the HNE data\n"
      ],
      "metadata": {
        "id": "3k0SYeH683BY"
      }
    },
    {
      "cell_type": "code",
      "source": [
        "data['immunoHNE'] = m.read_phenotype_data('557', 'LSDS-1_immunostaining_microscopy_HNEtr_Transformed_Reusable_Results')\n",
        "print('num records: ', len(data['immunoHNE']))\n",
        "print('sample names: ', list(data['immunoHNE']['Sample Name']))\n",
        "data['immunoHNE'].head()"
      ],
      "metadata": {
        "colab": {
          "base_uri": "https://localhost:8080/",
          "height": 262
        },
        "id": "szBqtHDQ9AWl",
        "outputId": "41af183c-239d-4854-dbdb-5db27c52be9a"
      },
      "execution_count": null,
      "outputs": [
        {
          "output_type": "stream",
          "name": "stdout",
          "text": [
            "num records:  23\n",
            "sample names:  ['F15_Mouse_Eye', 'F16_Mouse_Eye', 'F17_Mouse_Eye', 'F18_Mouse_Eye', 'F19_Mouse_Eye', 'F20_Mouse_Eye', 'GC15_Mouse_Eye', 'GC16_Mouse_Eye', 'GC17_Mouse_Eye', 'GC18_Mouse_Eye', 'GC19_Mouse_Eye', 'Viv15_Mouse_Eye', 'Viv16_Mouse_Eye', 'Viv17_Mouse_Eye', 'Viv18_Mouse_Eye', 'Viv19_Mouse_Eye', 'Viv20_Mouse_Eye', 'CC2_15_Mouse_Eye', 'CC2_16_Mouse_Eye', 'CC2_17_Mouse_Eye', 'CC2_18_Mouse_Eye', 'CC2_19_Mouse_Eye', 'CC2_20_Mouse_Eye']\n"
          ]
        },
        {
          "output_type": "execute_result",
          "data": {
            "text/plain": [
              "  Source Name    Sample Name  sumcount  sumEC   sunarea    dentotal      denEC\n",
              "0         F15  F15_Mouse_Eye       124     24  1.149408  107.881593  20.880308\n",
              "1         F16  F16_Mouse_Eye        97     28  0.946872  102.442566  29.571050\n",
              "2         F17  F17_Mouse_Eye       159     28  0.875718  181.565290  31.973762\n",
              "3         F18  F18_Mouse_Eye        90     23  0.650403  138.375660  35.362669\n",
              "4         F19  F19_Mouse_Eye       106     15  1.086317   97.577417  13.808125"
            ],
            "text/html": [
              "\n",
              "  <div id=\"df-9060c7d7-a02b-43c7-804a-c7b2d93c0ad5\" class=\"colab-df-container\">\n",
              "    <div>\n",
              "<style scoped>\n",
              "    .dataframe tbody tr th:only-of-type {\n",
              "        vertical-align: middle;\n",
              "    }\n",
              "\n",
              "    .dataframe tbody tr th {\n",
              "        vertical-align: top;\n",
              "    }\n",
              "\n",
              "    .dataframe thead th {\n",
              "        text-align: right;\n",
              "    }\n",
              "</style>\n",
              "<table border=\"1\" class=\"dataframe\">\n",
              "  <thead>\n",
              "    <tr style=\"text-align: right;\">\n",
              "      <th></th>\n",
              "      <th>Source Name</th>\n",
              "      <th>Sample Name</th>\n",
              "      <th>sumcount</th>\n",
              "      <th>sumEC</th>\n",
              "      <th>sunarea</th>\n",
              "      <th>dentotal</th>\n",
              "      <th>denEC</th>\n",
              "    </tr>\n",
              "  </thead>\n",
              "  <tbody>\n",
              "    <tr>\n",
              "      <th>0</th>\n",
              "      <td>F15</td>\n",
              "      <td>F15_Mouse_Eye</td>\n",
              "      <td>124</td>\n",
              "      <td>24</td>\n",
              "      <td>1.149408</td>\n",
              "      <td>107.881593</td>\n",
              "      <td>20.880308</td>\n",
              "    </tr>\n",
              "    <tr>\n",
              "      <th>1</th>\n",
              "      <td>F16</td>\n",
              "      <td>F16_Mouse_Eye</td>\n",
              "      <td>97</td>\n",
              "      <td>28</td>\n",
              "      <td>0.946872</td>\n",
              "      <td>102.442566</td>\n",
              "      <td>29.571050</td>\n",
              "    </tr>\n",
              "    <tr>\n",
              "      <th>2</th>\n",
              "      <td>F17</td>\n",
              "      <td>F17_Mouse_Eye</td>\n",
              "      <td>159</td>\n",
              "      <td>28</td>\n",
              "      <td>0.875718</td>\n",
              "      <td>181.565290</td>\n",
              "      <td>31.973762</td>\n",
              "    </tr>\n",
              "    <tr>\n",
              "      <th>3</th>\n",
              "      <td>F18</td>\n",
              "      <td>F18_Mouse_Eye</td>\n",
              "      <td>90</td>\n",
              "      <td>23</td>\n",
              "      <td>0.650403</td>\n",
              "      <td>138.375660</td>\n",
              "      <td>35.362669</td>\n",
              "    </tr>\n",
              "    <tr>\n",
              "      <th>4</th>\n",
              "      <td>F19</td>\n",
              "      <td>F19_Mouse_Eye</td>\n",
              "      <td>106</td>\n",
              "      <td>15</td>\n",
              "      <td>1.086317</td>\n",
              "      <td>97.577417</td>\n",
              "      <td>13.808125</td>\n",
              "    </tr>\n",
              "  </tbody>\n",
              "</table>\n",
              "</div>\n",
              "    <div class=\"colab-df-buttons\">\n",
              "\n",
              "  <div class=\"colab-df-container\">\n",
              "    <button class=\"colab-df-convert\" onclick=\"convertToInteractive('df-9060c7d7-a02b-43c7-804a-c7b2d93c0ad5')\"\n",
              "            title=\"Convert this dataframe to an interactive table.\"\n",
              "            style=\"display:none;\">\n",
              "\n",
              "  <svg xmlns=\"http://www.w3.org/2000/svg\" height=\"24px\" viewBox=\"0 -960 960 960\">\n",
              "    <path d=\"M120-120v-720h720v720H120Zm60-500h600v-160H180v160Zm220 220h160v-160H400v160Zm0 220h160v-160H400v160ZM180-400h160v-160H180v160Zm440 0h160v-160H620v160ZM180-180h160v-160H180v160Zm440 0h160v-160H620v160Z\"/>\n",
              "  </svg>\n",
              "    </button>\n",
              "\n",
              "  <style>\n",
              "    .colab-df-container {\n",
              "      display:flex;\n",
              "      gap: 12px;\n",
              "    }\n",
              "\n",
              "    .colab-df-convert {\n",
              "      background-color: #E8F0FE;\n",
              "      border: none;\n",
              "      border-radius: 50%;\n",
              "      cursor: pointer;\n",
              "      display: none;\n",
              "      fill: #1967D2;\n",
              "      height: 32px;\n",
              "      padding: 0 0 0 0;\n",
              "      width: 32px;\n",
              "    }\n",
              "\n",
              "    .colab-df-convert:hover {\n",
              "      background-color: #E2EBFA;\n",
              "      box-shadow: 0px 1px 2px rgba(60, 64, 67, 0.3), 0px 1px 3px 1px rgba(60, 64, 67, 0.15);\n",
              "      fill: #174EA6;\n",
              "    }\n",
              "\n",
              "    .colab-df-buttons div {\n",
              "      margin-bottom: 4px;\n",
              "    }\n",
              "\n",
              "    [theme=dark] .colab-df-convert {\n",
              "      background-color: #3B4455;\n",
              "      fill: #D2E3FC;\n",
              "    }\n",
              "\n",
              "    [theme=dark] .colab-df-convert:hover {\n",
              "      background-color: #434B5C;\n",
              "      box-shadow: 0px 1px 3px 1px rgba(0, 0, 0, 0.15);\n",
              "      filter: drop-shadow(0px 1px 2px rgba(0, 0, 0, 0.3));\n",
              "      fill: #FFFFFF;\n",
              "    }\n",
              "  </style>\n",
              "\n",
              "    <script>\n",
              "      const buttonEl =\n",
              "        document.querySelector('#df-9060c7d7-a02b-43c7-804a-c7b2d93c0ad5 button.colab-df-convert');\n",
              "      buttonEl.style.display =\n",
              "        google.colab.kernel.accessAllowed ? 'block' : 'none';\n",
              "\n",
              "      async function convertToInteractive(key) {\n",
              "        const element = document.querySelector('#df-9060c7d7-a02b-43c7-804a-c7b2d93c0ad5');\n",
              "        const dataTable =\n",
              "          await google.colab.kernel.invokeFunction('convertToInteractive',\n",
              "                                                    [key], {});\n",
              "        if (!dataTable) return;\n",
              "\n",
              "        const docLinkHtml = 'Like what you see? Visit the ' +\n",
              "          '<a target=\"_blank\" href=https://colab.research.google.com/notebooks/data_table.ipynb>data table notebook</a>'\n",
              "          + ' to learn more about interactive tables.';\n",
              "        element.innerHTML = '';\n",
              "        dataTable['output_type'] = 'display_data';\n",
              "        await google.colab.output.renderOutput(dataTable, element);\n",
              "        const docLink = document.createElement('div');\n",
              "        docLink.innerHTML = docLinkHtml;\n",
              "        element.appendChild(docLink);\n",
              "      }\n",
              "    </script>\n",
              "  </div>\n",
              "\n",
              "\n",
              "<div id=\"df-59a4ddff-8b28-46af-81a7-30a685d0809d\">\n",
              "  <button class=\"colab-df-quickchart\" onclick=\"quickchart('df-59a4ddff-8b28-46af-81a7-30a685d0809d')\"\n",
              "            title=\"Suggest charts\"\n",
              "            style=\"display:none;\">\n",
              "\n",
              "<svg xmlns=\"http://www.w3.org/2000/svg\" height=\"24px\"viewBox=\"0 0 24 24\"\n",
              "     width=\"24px\">\n",
              "    <g>\n",
              "        <path d=\"M19 3H5c-1.1 0-2 .9-2 2v14c0 1.1.9 2 2 2h14c1.1 0 2-.9 2-2V5c0-1.1-.9-2-2-2zM9 17H7v-7h2v7zm4 0h-2V7h2v10zm4 0h-2v-4h2v4z\"/>\n",
              "    </g>\n",
              "</svg>\n",
              "  </button>\n",
              "\n",
              "<style>\n",
              "  .colab-df-quickchart {\n",
              "      --bg-color: #E8F0FE;\n",
              "      --fill-color: #1967D2;\n",
              "      --hover-bg-color: #E2EBFA;\n",
              "      --hover-fill-color: #174EA6;\n",
              "      --disabled-fill-color: #AAA;\n",
              "      --disabled-bg-color: #DDD;\n",
              "  }\n",
              "\n",
              "  [theme=dark] .colab-df-quickchart {\n",
              "      --bg-color: #3B4455;\n",
              "      --fill-color: #D2E3FC;\n",
              "      --hover-bg-color: #434B5C;\n",
              "      --hover-fill-color: #FFFFFF;\n",
              "      --disabled-bg-color: #3B4455;\n",
              "      --disabled-fill-color: #666;\n",
              "  }\n",
              "\n",
              "  .colab-df-quickchart {\n",
              "    background-color: var(--bg-color);\n",
              "    border: none;\n",
              "    border-radius: 50%;\n",
              "    cursor: pointer;\n",
              "    display: none;\n",
              "    fill: var(--fill-color);\n",
              "    height: 32px;\n",
              "    padding: 0;\n",
              "    width: 32px;\n",
              "  }\n",
              "\n",
              "  .colab-df-quickchart:hover {\n",
              "    background-color: var(--hover-bg-color);\n",
              "    box-shadow: 0 1px 2px rgba(60, 64, 67, 0.3), 0 1px 3px 1px rgba(60, 64, 67, 0.15);\n",
              "    fill: var(--button-hover-fill-color);\n",
              "  }\n",
              "\n",
              "  .colab-df-quickchart-complete:disabled,\n",
              "  .colab-df-quickchart-complete:disabled:hover {\n",
              "    background-color: var(--disabled-bg-color);\n",
              "    fill: var(--disabled-fill-color);\n",
              "    box-shadow: none;\n",
              "  }\n",
              "\n",
              "  .colab-df-spinner {\n",
              "    border: 2px solid var(--fill-color);\n",
              "    border-color: transparent;\n",
              "    border-bottom-color: var(--fill-color);\n",
              "    animation:\n",
              "      spin 1s steps(1) infinite;\n",
              "  }\n",
              "\n",
              "  @keyframes spin {\n",
              "    0% {\n",
              "      border-color: transparent;\n",
              "      border-bottom-color: var(--fill-color);\n",
              "      border-left-color: var(--fill-color);\n",
              "    }\n",
              "    20% {\n",
              "      border-color: transparent;\n",
              "      border-left-color: var(--fill-color);\n",
              "      border-top-color: var(--fill-color);\n",
              "    }\n",
              "    30% {\n",
              "      border-color: transparent;\n",
              "      border-left-color: var(--fill-color);\n",
              "      border-top-color: var(--fill-color);\n",
              "      border-right-color: var(--fill-color);\n",
              "    }\n",
              "    40% {\n",
              "      border-color: transparent;\n",
              "      border-right-color: var(--fill-color);\n",
              "      border-top-color: var(--fill-color);\n",
              "    }\n",
              "    60% {\n",
              "      border-color: transparent;\n",
              "      border-right-color: var(--fill-color);\n",
              "    }\n",
              "    80% {\n",
              "      border-color: transparent;\n",
              "      border-right-color: var(--fill-color);\n",
              "      border-bottom-color: var(--fill-color);\n",
              "    }\n",
              "    90% {\n",
              "      border-color: transparent;\n",
              "      border-bottom-color: var(--fill-color);\n",
              "    }\n",
              "  }\n",
              "</style>\n",
              "\n",
              "  <script>\n",
              "    async function quickchart(key) {\n",
              "      const quickchartButtonEl =\n",
              "        document.querySelector('#' + key + ' button');\n",
              "      quickchartButtonEl.disabled = true;  // To prevent multiple clicks.\n",
              "      quickchartButtonEl.classList.add('colab-df-spinner');\n",
              "      try {\n",
              "        const charts = await google.colab.kernel.invokeFunction(\n",
              "            'suggestCharts', [key], {});\n",
              "      } catch (error) {\n",
              "        console.error('Error during call to suggestCharts:', error);\n",
              "      }\n",
              "      quickchartButtonEl.classList.remove('colab-df-spinner');\n",
              "      quickchartButtonEl.classList.add('colab-df-quickchart-complete');\n",
              "    }\n",
              "    (() => {\n",
              "      let quickchartButtonEl =\n",
              "        document.querySelector('#df-59a4ddff-8b28-46af-81a7-30a685d0809d button');\n",
              "      quickchartButtonEl.style.display =\n",
              "        google.colab.kernel.accessAllowed ? 'block' : 'none';\n",
              "    })();\n",
              "  </script>\n",
              "</div>\n",
              "\n",
              "    </div>\n",
              "  </div>\n"
            ],
            "application/vnd.google.colaboratory.intrinsic+json": {
              "type": "dataframe",
              "summary": "{\n  \"name\": \"data['immunoHNE']\",\n  \"rows\": 5,\n  \"fields\": [\n    {\n      \"column\": \"Source Name\",\n      \"properties\": {\n        \"dtype\": \"string\",\n        \"num_unique_values\": 5,\n        \"samples\": [\n          \"F16\",\n          \"F19\",\n          \"F17\"\n        ],\n        \"semantic_type\": \"\",\n        \"description\": \"\"\n      }\n    },\n    {\n      \"column\": \"Sample Name\",\n      \"properties\": {\n        \"dtype\": \"string\",\n        \"num_unique_values\": 5,\n        \"samples\": [\n          \"F16_Mouse_Eye\",\n          \"F19_Mouse_Eye\",\n          \"F17_Mouse_Eye\"\n        ],\n        \"semantic_type\": \"\",\n        \"description\": \"\"\n      }\n    },\n    {\n      \"column\": \"sumcount\",\n      \"properties\": {\n        \"dtype\": \"number\",\n        \"std\": 27,\n        \"min\": 90,\n        \"max\": 159,\n        \"num_unique_values\": 5,\n        \"samples\": [\n          97,\n          106,\n          159\n        ],\n        \"semantic_type\": \"\",\n        \"description\": \"\"\n      }\n    },\n    {\n      \"column\": \"sumEC\",\n      \"properties\": {\n        \"dtype\": \"number\",\n        \"std\": 5,\n        \"min\": 15,\n        \"max\": 28,\n        \"num_unique_values\": 4,\n        \"samples\": [\n          28,\n          15,\n          24\n        ],\n        \"semantic_type\": \"\",\n        \"description\": \"\"\n      }\n    },\n    {\n      \"column\": \"sunarea\",\n      \"properties\": {\n        \"dtype\": \"number\",\n        \"std\": 0.1957618865104877,\n        \"min\": 0.650403404,\n        \"max\": 1.14940831,\n        \"num_unique_values\": 5,\n        \"samples\": [\n          0.946872026,\n          1.086316932,\n          0.875718043\n        ],\n        \"semantic_type\": \"\",\n        \"description\": \"\"\n      }\n    },\n    {\n      \"column\": \"dentotal\",\n      \"properties\": {\n        \"dtype\": \"number\",\n        \"std\": 35.10982768259302,\n        \"min\": 97.57741678,\n        \"max\": 181.5652895,\n        \"num_unique_values\": 5,\n        \"samples\": [\n          102.442566,\n          97.57741678,\n          181.5652895\n        ],\n        \"semantic_type\": \"\",\n        \"description\": \"\"\n      }\n    },\n    {\n      \"column\": \"denEC\",\n      \"properties\": {\n        \"dtype\": \"number\",\n        \"std\": 8.809674491223598,\n        \"min\": 13.80812502,\n        \"max\": 35.36266857,\n        \"num_unique_values\": 5,\n        \"samples\": [\n          29.57104997,\n          13.80812502,\n          31.97376167\n        ],\n        \"semantic_type\": \"\",\n        \"description\": \"\"\n      }\n    }\n  ]\n}"
            }
          },
          "metadata": {},
          "execution_count": 25
        }
      ]
    },
    {
      "cell_type": "markdown",
      "source": [
        "*We will examine differences between the ground and spaceflight samples for the distribution of data in the sumcount, sumeEC, sunarea, dentotal, and denEC columns.*\n",
        "\n",
        "Plot a box plot for the sumcount field of the immuno HNE data for ground and spaceflight samples\n"
      ],
      "metadata": {
        "id": "NKqGsXtZ_7OA"
      }
    },
    {
      "cell_type": "code",
      "source": [
        "m.plotbox_and_stats(data_=data['immunoHNE'], sample_key = 'Source Name', field='sumcount', treatment=None, space=None, exclude_samples=[])\n",
        "\n",
        "m.plotbox_and_stats(data_=data['immunoHNE'], sample_key = 'Source Name', field='dentotal', treatment=None, space=None, exclude_samples=[])\n",
        "\n",
        "m.plotbox_and_stats(data_=data['immunoHNE'], sample_key = 'Source Name', field='denEC', treatment=None, space=None, exclude_samples=[])"
      ],
      "metadata": {
        "colab": {
          "base_uri": "https://localhost:8080/",
          "height": 1000
        },
        "id": "kjmAPxbSAF5x",
        "outputId": "c8553fed-eeb0-4567-fd30-8d17b2a862d5"
      },
      "execution_count": null,
      "outputs": [
        {
          "output_type": "stream",
          "name": "stdout",
          "text": [
            "field:  sumcount\n",
            "excluding samples:  []\n",
            "{'sumcount': {'t-test p-value': 0.00523}}\n",
            "n flight =  6\n",
            "n nonflight =  17\n"
          ]
        },
        {
          "output_type": "display_data",
          "data": {
            "text/plain": [
              "<Figure size 640x480 with 1 Axes>"
            ],
            "image/png": "[encoded data removed]"
          },
          "metadata": {}
        },
        {
          "output_type": "stream",
          "name": "stdout",
          "text": [
            "field:  dentotal\n",
            "excluding samples:  []\n",
            "{'dentotal': {'t-test p-value': 0.00218}}\n",
            "n flight =  6\n",
            "n nonflight =  17\n"
          ]
        },
        {
          "output_type": "display_data",
          "data": {
            "text/plain": [
              "<Figure size 640x480 with 1 Axes>"
            ],
            "image/png": "[encoded data removed]"
          },
          "metadata": {}
        },
        {
          "output_type": "stream",
          "name": "stdout",
          "text": [
            "field:  denEC\n",
            "excluding samples:  []\n",
            "{'denEC': {'t-test p-value': 0.0262}}\n",
            "n flight =  6\n",
            "n nonflight =  17\n"
          ]
        },
        {
          "output_type": "display_data",
          "data": {
            "text/plain": [
              "<Figure size 640x480 with 1 Axes>"
            ],
            "image/png": "[encoded data removed]"
          },
          "metadata": {}
        }
      ]
    },
    {
      "cell_type": "markdown",
      "source": [
        "**QUESTIONS**\n",
        "\n",
        "1. How many flight samples and non-flight samples are in this dataset?\n",
        "n flight =  6\n",
        "n nonflight =  17\n",
        "\n",
        "2. Which metric has the lowest p-values?\n",
        "dentotal\n",
        "3. What does high HNE total density infer about the state of a cell?\n",
        "HNE lipid secretion,which is found animal issues during oxidative stress and can be indicating underlyign conditions such as chronic inflamation, cancer and neurodegenerative disorders.\n"
      ],
      "metadata": {
        "id": "jnzGfA_OAUos"
      }
    },
    {
      "cell_type": "markdown",
      "source": [
        "Explore the immunostaining microscopy PNA data\n",
        "What is immunostaining PNA?\n",
        "\n",
        "Peanut agglutinin (PNA) is plant lectin protein derived from the fruits of Arachis hypogaea. Lectins recognise and bind particular sugar sequences in carbohydrates. The name \"peanut agglutinin\" originates from its ability to stick together (agglutinate) cells. In the context of this experiment, PNA is a specific marker for cone photoreceptors and can be used to detect signs of degradation.\n",
        "\n",
        "https://www.mdpi.com/1422-0067/24/8/7362"
      ],
      "metadata": {
        "id": "wn7R0EzNEJo2"
      }
    },
    {
      "cell_type": "code",
      "source": [
        "data['immunoPNA'] = m.read_phenotype_data('557', 'LSDS-1_immunostaining_microscopy_PNAtr_Transformed_Reusable_Results')"
      ],
      "metadata": {
        "id": "6ImBg06NGwHN"
      },
      "execution_count": null,
      "outputs": []
    },
    {
      "cell_type": "code",
      "source": [
        "print('num records: ', len(data['immunoPNA']))"
      ],
      "metadata": {
        "colab": {
          "base_uri": "https://localhost:8080/"
        },
        "id": "-zZ5PqaxH38g",
        "outputId": "62022060-4b12-4222-b4ec-08707edbf38f"
      },
      "execution_count": null,
      "outputs": [
        {
          "output_type": "stream",
          "name": "stdout",
          "text": [
            "num records:  10\n"
          ]
        }
      ]
    },
    {
      "cell_type": "code",
      "source": [
        "print(data['immunoPNA'].columns)"
      ],
      "metadata": {
        "colab": {
          "base_uri": "https://localhost:8080/"
        },
        "id": "ABei6s2DIKAY",
        "outputId": "2d49ab71-a4d6-4e84-a7f9-c1bd2d38e976"
      },
      "execution_count": null,
      "outputs": [
        {
          "output_type": "stream",
          "name": "stdout",
          "text": [
            "Index(['Source Name', 'Sample Name', 'Treatment', 'totct', 'totarea',\n",
            "       'density', 'Average HNE Fluorescent Intensity'],\n",
            "      dtype='object')\n"
          ]
        }
      ]
    },
    {
      "cell_type": "code",
      "source": [
        "print('sample names:', list(data['immunoPNA']['Sample Name']))"
      ],
      "metadata": {
        "colab": {
          "base_uri": "https://localhost:8080/"
        },
        "id": "4aIpDTIxIXSp",
        "outputId": "34d6d19a-e277-4c31-929e-c6f2fe635e05"
      },
      "execution_count": null,
      "outputs": [
        {
          "output_type": "stream",
          "name": "stdout",
          "text": [
            "sample names: ['F15_Mouse_Eye', 'F17_Mouse_Eye', 'F18_Mouse_Eye', 'F19_Mouse_Eye', 'F20_Mouse_Eye', 'GC15_Mouse_Eye', 'GC16_Mouse_Eye', 'GC17_Mouse_Eye', 'GC18_Mouse_Eye', 'GC19_Mouse_Eye']\n"
          ]
        }
      ]
    },
    {
      "cell_type": "code",
      "source": [
        "data['immunoPNA'].head()"
      ],
      "metadata": {
        "colab": {
          "base_uri": "https://localhost:8080/",
          "height": 206
        },
        "id": "Yorr3yeaIkb7",
        "outputId": "7cd2ada4-6d62-43d6-91bf-e162db7732c0"
      },
      "execution_count": null,
      "outputs": [
        {
          "output_type": "execute_result",
          "data": {
            "text/plain": [
              "  Source Name    Sample Name Treatment  totct   totarea      density  \\\n",
              "0         F15  F15_Mouse_Eye    Flight    201  0.222335   904.041554   \n",
              "1         F17  F17_Mouse_Eye    Flight    260  0.316144   822.409317   \n",
              "2         F18  F18_Mouse_Eye    Flight    241  0.205566  1172.370234   \n",
              "3         F19  F19_Mouse_Eye    Flight    259  0.286833   902.965714   \n",
              "4         F20  F20_Mouse_Eye    Flight    209  0.256673   814.266522   \n",
              "\n",
              "   Average HNE Fluorescent Intensity  \n",
              "0                          37.552000  \n",
              "1                          48.436333  \n",
              "2                          34.360333  \n",
              "3                          39.644667  \n",
              "4                          41.274333  "
            ],
            "text/html": [
              "\n",
              "  <div id=\"df-89862e34-40e1-43ab-98cc-feedf992aae9\" class=\"colab-df-container\">\n",
              "    <div>\n",
              "<style scoped>\n",
              "    .dataframe tbody tr th:only-of-type {\n",
              "        vertical-align: middle;\n",
              "    }\n",
              "\n",
              "    .dataframe tbody tr th {\n",
              "        vertical-align: top;\n",
              "    }\n",
              "\n",
              "    .dataframe thead th {\n",
              "        text-align: right;\n",
              "    }\n",
              "</style>\n",
              "<table border=\"1\" class=\"dataframe\">\n",
              "  <thead>\n",
              "    <tr style=\"text-align: right;\">\n",
              "      <th></th>\n",
              "      <th>Source Name</th>\n",
              "      <th>Sample Name</th>\n",
              "      <th>Treatment</th>\n",
              "      <th>totct</th>\n",
              "      <th>totarea</th>\n",
              "      <th>density</th>\n",
              "      <th>Average HNE Fluorescent Intensity</th>\n",
              "    </tr>\n",
              "  </thead>\n",
              "  <tbody>\n",
              "    <tr>\n",
              "      <th>0</th>\n",
              "      <td>F15</td>\n",
              "      <td>F15_Mouse_Eye</td>\n",
              "      <td>Flight</td>\n",
              "      <td>201</td>\n",
              "      <td>0.222335</td>\n",
              "      <td>904.041554</td>\n",
              "      <td>37.552000</td>\n",
              "    </tr>\n",
              "    <tr>\n",
              "      <th>1</th>\n",
              "      <td>F17</td>\n",
              "      <td>F17_Mouse_Eye</td>\n",
              "      <td>Flight</td>\n",
              "      <td>260</td>\n",
              "      <td>0.316144</td>\n",
              "      <td>822.409317</td>\n",
              "      <td>48.436333</td>\n",
              "    </tr>\n",
              "    <tr>\n",
              "      <th>2</th>\n",
              "      <td>F18</td>\n",
              "      <td>F18_Mouse_Eye</td>\n",
              "      <td>Flight</td>\n",
              "      <td>241</td>\n",
              "      <td>0.205566</td>\n",
              "      <td>1172.370234</td>\n",
              "      <td>34.360333</td>\n",
              "    </tr>\n",
              "    <tr>\n",
              "      <th>3</th>\n",
              "      <td>F19</td>\n",
              "      <td>F19_Mouse_Eye</td>\n",
              "      <td>Flight</td>\n",
              "      <td>259</td>\n",
              "      <td>0.286833</td>\n",
              "      <td>902.965714</td>\n",
              "      <td>39.644667</td>\n",
              "    </tr>\n",
              "    <tr>\n",
              "      <th>4</th>\n",
              "      <td>F20</td>\n",
              "      <td>F20_Mouse_Eye</td>\n",
              "      <td>Flight</td>\n",
              "      <td>209</td>\n",
              "      <td>0.256673</td>\n",
              "      <td>814.266522</td>\n",
              "      <td>41.274333</td>\n",
              "    </tr>\n",
              "  </tbody>\n",
              "</table>\n",
              "</div>\n",
              "    <div class=\"colab-df-buttons\">\n",
              "\n",
              "  <div class=\"colab-df-container\">\n",
              "    <button class=\"colab-df-convert\" onclick=\"convertToInteractive('df-89862e34-40e1-43ab-98cc-feedf992aae9')\"\n",
              "            title=\"Convert this dataframe to an interactive table.\"\n",
              "            style=\"display:none;\">\n",
              "\n",
              "  <svg xmlns=\"http://www.w3.org/2000/svg\" height=\"24px\" viewBox=\"0 -960 960 960\">\n",
              "    <path d=\"M120-120v-720h720v720H120Zm60-500h600v-160H180v160Zm220 220h160v-160H400v160Zm0 220h160v-160H400v160ZM180-400h160v-160H180v160Zm440 0h160v-160H620v160ZM180-180h160v-160H180v160Zm440 0h160v-160H620v160Z\"/>\n",
              "  </svg>\n",
              "    </button>\n",
              "\n",
              "  <style>\n",
              "    .colab-df-container {\n",
              "      display:flex;\n",
              "      gap: 12px;\n",
              "    }\n",
              "\n",
              "    .colab-df-convert {\n",
              "      background-color: #E8F0FE;\n",
              "      border: none;\n",
              "      border-radius: 50%;\n",
              "      cursor: pointer;\n",
              "      display: none;\n",
              "      fill: #1967D2;\n",
              "      height: 32px;\n",
              "      padding: 0 0 0 0;\n",
              "      width: 32px;\n",
              "    }\n",
              "\n",
              "    .colab-df-convert:hover {\n",
              "      background-color: #E2EBFA;\n",
              "      box-shadow: 0px 1px 2px rgba(60, 64, 67, 0.3), 0px 1px 3px 1px rgba(60, 64, 67, 0.15);\n",
              "      fill: #174EA6;\n",
              "    }\n",
              "\n",
              "    .colab-df-buttons div {\n",
              "      margin-bottom: 4px;\n",
              "    }\n",
              "\n",
              "    [theme=dark] .colab-df-convert {\n",
              "      background-color: #3B4455;\n",
              "      fill: #D2E3FC;\n",
              "    }\n",
              "\n",
              "    [theme=dark] .colab-df-convert:hover {\n",
              "      background-color: #434B5C;\n",
              "      box-shadow: 0px 1px 3px 1px rgba(0, 0, 0, 0.15);\n",
              "      filter: drop-shadow(0px 1px 2px rgba(0, 0, 0, 0.3));\n",
              "      fill: #FFFFFF;\n",
              "    }\n",
              "  </style>\n",
              "\n",
              "    <script>\n",
              "      const buttonEl =\n",
              "        document.querySelector('#df-89862e34-40e1-43ab-98cc-feedf992aae9 button.colab-df-convert');\n",
              "      buttonEl.style.display =\n",
              "        google.colab.kernel.accessAllowed ? 'block' : 'none';\n",
              "\n",
              "      async function convertToInteractive(key) {\n",
              "        const element = document.querySelector('#df-89862e34-40e1-43ab-98cc-feedf992aae9');\n",
              "        const dataTable =\n",
              "          await google.colab.kernel.invokeFunction('convertToInteractive',\n",
              "                                                    [key], {});\n",
              "        if (!dataTable) return;\n",
              "\n",
              "        const docLinkHtml = 'Like what you see? Visit the ' +\n",
              "          '<a target=\"_blank\" href=https://colab.research.google.com/notebooks/data_table.ipynb>data table notebook</a>'\n",
              "          + ' to learn more about interactive tables.';\n",
              "        element.innerHTML = '';\n",
              "        dataTable['output_type'] = 'display_data';\n",
              "        await google.colab.output.renderOutput(dataTable, element);\n",
              "        const docLink = document.createElement('div');\n",
              "        docLink.innerHTML = docLinkHtml;\n",
              "        element.appendChild(docLink);\n",
              "      }\n",
              "    </script>\n",
              "  </div>\n",
              "\n",
              "\n",
              "<div id=\"df-e971ec6c-d18f-4e38-8248-12d762ea8f59\">\n",
              "  <button class=\"colab-df-quickchart\" onclick=\"quickchart('df-e971ec6c-d18f-4e38-8248-12d762ea8f59')\"\n",
              "            title=\"Suggest charts\"\n",
              "            style=\"display:none;\">\n",
              "\n",
              "<svg xmlns=\"http://www.w3.org/2000/svg\" height=\"24px\"viewBox=\"0 0 24 24\"\n",
              "     width=\"24px\">\n",
              "    <g>\n",
              "        <path d=\"M19 3H5c-1.1 0-2 .9-2 2v14c0 1.1.9 2 2 2h14c1.1 0 2-.9 2-2V5c0-1.1-.9-2-2-2zM9 17H7v-7h2v7zm4 0h-2V7h2v10zm4 0h-2v-4h2v4z\"/>\n",
              "    </g>\n",
              "</svg>\n",
              "  </button>\n",
              "\n",
              "<style>\n",
              "  .colab-df-quickchart {\n",
              "      --bg-color: #E8F0FE;\n",
              "      --fill-color: #1967D2;\n",
              "      --hover-bg-color: #E2EBFA;\n",
              "      --hover-fill-color: #174EA6;\n",
              "      --disabled-fill-color: #AAA;\n",
              "      --disabled-bg-color: #DDD;\n",
              "  }\n",
              "\n",
              "  [theme=dark] .colab-df-quickchart {\n",
              "      --bg-color: #3B4455;\n",
              "      --fill-color: #D2E3FC;\n",
              "      --hover-bg-color: #434B5C;\n",
              "      --hover-fill-color: #FFFFFF;\n",
              "      --disabled-bg-color: #3B4455;\n",
              "      --disabled-fill-color: #666;\n",
              "  }\n",
              "\n",
              "  .colab-df-quickchart {\n",
              "    background-color: var(--bg-color);\n",
              "    border: none;\n",
              "    border-radius: 50%;\n",
              "    cursor: pointer;\n",
              "    display: none;\n",
              "    fill: var(--fill-color);\n",
              "    height: 32px;\n",
              "    padding: 0;\n",
              "    width: 32px;\n",
              "  }\n",
              "\n",
              "  .colab-df-quickchart:hover {\n",
              "    background-color: var(--hover-bg-color);\n",
              "    box-shadow: 0 1px 2px rgba(60, 64, 67, 0.3), 0 1px 3px 1px rgba(60, 64, 67, 0.15);\n",
              "    fill: var(--button-hover-fill-color);\n",
              "  }\n",
              "\n",
              "  .colab-df-quickchart-complete:disabled,\n",
              "  .colab-df-quickchart-complete:disabled:hover {\n",
              "    background-color: var(--disabled-bg-color);\n",
              "    fill: var(--disabled-fill-color);\n",
              "    box-shadow: none;\n",
              "  }\n",
              "\n",
              "  .colab-df-spinner {\n",
              "    border: 2px solid var(--fill-color);\n",
              "    border-color: transparent;\n",
              "    border-bottom-color: var(--fill-color);\n",
              "    animation:\n",
              "      spin 1s steps(1) infinite;\n",
              "  }\n",
              "\n",
              "  @keyframes spin {\n",
              "    0% {\n",
              "      border-color: transparent;\n",
              "      border-bottom-color: var(--fill-color);\n",
              "      border-left-color: var(--fill-color);\n",
              "    }\n",
              "    20% {\n",
              "      border-color: transparent;\n",
              "      border-left-color: var(--fill-color);\n",
              "      border-top-color: var(--fill-color);\n",
              "    }\n",
              "    30% {\n",
              "      border-color: transparent;\n",
              "      border-left-color: var(--fill-color);\n",
              "      border-top-color: var(--fill-color);\n",
              "      border-right-color: var(--fill-color);\n",
              "    }\n",
              "    40% {\n",
              "      border-color: transparent;\n",
              "      border-right-color: var(--fill-color);\n",
              "      border-top-color: var(--fill-color);\n",
              "    }\n",
              "    60% {\n",
              "      border-color: transparent;\n",
              "      border-right-color: var(--fill-color);\n",
              "    }\n",
              "    80% {\n",
              "      border-color: transparent;\n",
              "      border-right-color: var(--fill-color);\n",
              "      border-bottom-color: var(--fill-color);\n",
              "    }\n",
              "    90% {\n",
              "      border-color: transparent;\n",
              "      border-bottom-color: var(--fill-color);\n",
              "    }\n",
              "  }\n",
              "</style>\n",
              "\n",
              "  <script>\n",
              "    async function quickchart(key) {\n",
              "      const quickchartButtonEl =\n",
              "        document.querySelector('#' + key + ' button');\n",
              "      quickchartButtonEl.disabled = true;  // To prevent multiple clicks.\n",
              "      quickchartButtonEl.classList.add('colab-df-spinner');\n",
              "      try {\n",
              "        const charts = await google.colab.kernel.invokeFunction(\n",
              "            'suggestCharts', [key], {});\n",
              "      } catch (error) {\n",
              "        console.error('Error during call to suggestCharts:', error);\n",
              "      }\n",
              "      quickchartButtonEl.classList.remove('colab-df-spinner');\n",
              "      quickchartButtonEl.classList.add('colab-df-quickchart-complete');\n",
              "    }\n",
              "    (() => {\n",
              "      let quickchartButtonEl =\n",
              "        document.querySelector('#df-e971ec6c-d18f-4e38-8248-12d762ea8f59 button');\n",
              "      quickchartButtonEl.style.display =\n",
              "        google.colab.kernel.accessAllowed ? 'block' : 'none';\n",
              "    })();\n",
              "  </script>\n",
              "</div>\n",
              "\n",
              "    </div>\n",
              "  </div>\n"
            ],
            "application/vnd.google.colaboratory.intrinsic+json": {
              "type": "dataframe",
              "summary": "{\n  \"name\": \"data['immunoPNA']\",\n  \"rows\": 5,\n  \"fields\": [\n    {\n      \"column\": \"Source Name\",\n      \"properties\": {\n        \"dtype\": \"string\",\n        \"num_unique_values\": 5,\n        \"samples\": [\n          \"F17\",\n          \"F20\",\n          \"F18\"\n        ],\n        \"semantic_type\": \"\",\n        \"description\": \"\"\n      }\n    },\n    {\n      \"column\": \"Sample Name\",\n      \"properties\": {\n        \"dtype\": \"string\",\n        \"num_unique_values\": 5,\n        \"samples\": [\n          \"F17_Mouse_Eye\",\n          \"F20_Mouse_Eye\",\n          \"F18_Mouse_Eye\"\n        ],\n        \"semantic_type\": \"\",\n        \"description\": \"\"\n      }\n    },\n    {\n      \"column\": \"Treatment\",\n      \"properties\": {\n        \"dtype\": \"category\",\n        \"num_unique_values\": 1,\n        \"samples\": [\n          \"Flight\"\n        ],\n        \"semantic_type\": \"\",\n        \"description\": \"\"\n      }\n    },\n    {\n      \"column\": \"totct\",\n      \"properties\": {\n        \"dtype\": \"number\",\n        \"std\": 27,\n        \"min\": 201,\n        \"max\": 260,\n        \"num_unique_values\": 5,\n        \"samples\": [\n          260\n        ],\n        \"semantic_type\": \"\",\n        \"description\": \"\"\n      }\n    },\n    {\n      \"column\": \"totarea\",\n      \"properties\": {\n        \"dtype\": \"number\",\n        \"std\": 0.04537045356389273,\n        \"min\": 0.205566461,\n        \"max\": 0.316144278,\n        \"num_unique_values\": 5,\n        \"samples\": [\n          0.316144278\n        ],\n        \"semantic_type\": \"\",\n        \"description\": \"\"\n      }\n    },\n    {\n      \"column\": \"density\",\n      \"properties\": {\n        \"dtype\": \"number\",\n        \"std\": 145.67733335213524,\n        \"min\": 814.266522,\n        \"max\": 1172.370234,\n        \"num_unique_values\": 5,\n        \"samples\": [\n          822.4093166\n        ],\n        \"semantic_type\": \"\",\n        \"description\": \"\"\n      }\n    },\n    {\n      \"column\": \"Average HNE Fluorescent Intensity\",\n      \"properties\": {\n        \"dtype\": \"number\",\n        \"std\": 5.253547745637237,\n        \"min\": 34.36033333,\n        \"max\": 48.43633333,\n        \"num_unique_values\": 5,\n        \"samples\": [\n          48.43633333\n        ],\n        \"semantic_type\": \"\",\n        \"description\": \"\"\n      }\n    }\n  ]\n}"
            }
          },
          "metadata": {},
          "execution_count": 46
        }
      ]
    },
    {
      "cell_type": "code",
      "source": [
        "m.plotbox_and_stats(data_=data['immunoPNA'], sample_key = 'Source Name', field='totarea', treatment='Treatment', space='Flight', exclude_samples=[])"
      ],
      "metadata": {
        "colab": {
          "base_uri": "https://localhost:8080/",
          "height": 577
        },
        "id": "JBDf1fbbIwdx",
        "outputId": "ba59cf00-2a24-437d-ecc0-a4ea9279c141"
      },
      "execution_count": null,
      "outputs": [
        {
          "output_type": "stream",
          "name": "stdout",
          "text": [
            "field:  totarea\n",
            "excluding samples:  []\n",
            "{'totarea': {'t-test p-value': 0.88465}}\n",
            "n flight =  5\n",
            "n nonflight =  5\n"
          ]
        },
        {
          "output_type": "display_data",
          "data": {
            "text/plain": [
              "<Figure size 640x480 with 1 Axes>"
            ],
            "image/png": "[encoded data removed]"
          },
          "metadata": {}
        }
      ]
    },
    {
      "cell_type": "code",
      "source": [
        "m.plotbox_and_stats(data_=data['immunoPNA'], sample_key = 'Source Name', field='density', treatment='Treatment', space='Flight', exclude_samples=[])"
      ],
      "metadata": {
        "colab": {
          "base_uri": "https://localhost:8080/",
          "height": 577
        },
        "id": "ypvNSi-vLKw_",
        "outputId": "a2966267-c724-448c-88c4-ca0f9a60b199"
      },
      "execution_count": null,
      "outputs": [
        {
          "output_type": "stream",
          "name": "stdout",
          "text": [
            "field:  density\n",
            "excluding samples:  []\n",
            "{'density': {'t-test p-value': 0.01739}}\n",
            "n flight =  5\n",
            "n nonflight =  5\n"
          ]
        },
        {
          "output_type": "display_data",
          "data": {
            "text/plain": [
              "<Figure size 640x480 with 1 Axes>"
            ],
            "image/png": "[encoded data removed]"
          },
          "metadata": {}
        }
      ]
    },
    {
      "cell_type": "code",
      "source": [
        "m.plotbox_and_stats(data_=data['immunoPNA'], sample_key = 'Source Name', field='Average HNE Fluorescent Intensity', treatment='Treatment', space='Flight', exclude_samples=[])"
      ],
      "metadata": {
        "colab": {
          "base_uri": "https://localhost:8080/",
          "height": 672
        },
        "id": "APcdpJARLa08",
        "outputId": "008e820f-a5f2-4fce-b1de-1ebaddf5501c"
      },
      "execution_count": null,
      "outputs": [
        {
          "output_type": "stream",
          "name": "stdout",
          "text": [
            "field:  Average HNE Fluorescent Intensity\n",
            "excluding samples:  []\n",
            "{'Average HNE Fluorescent Intensity': {'t-test p-value': 0.04793}}\n",
            "n flight =  5\n",
            "n nonflight =  5\n"
          ]
        },
        {
          "output_type": "display_data",
          "data": {
            "text/plain": [
              "<Figure size 640x480 with 1 Axes>"
            ],
            "image/png": "[encoded data removed]"
          },
          "metadata": {}
        }
      ]
    },
    {
      "cell_type": "markdown",
      "source": [
        "Here the way the density has been measured is by totct/totarea which gives the density. The HNE Fluorescent Intensity has been calculated by diving total floursent intensity by total area of Fluorescent region."
      ],
      "metadata": {
        "id": "KP96Gwo0NFK_"
      }
    },
    {
      "cell_type": "markdown",
      "source": [
        "# OSD-568 Datasets"
      ],
      "metadata": {
        "id": "YL_i_bDaQAdW"
      }
    },
    {
      "cell_type": "markdown",
      "source": [
        "## Explore the TUNEL microscopy data\n"
      ],
      "metadata": {
        "id": "TV_lOHSXtg8D"
      }
    },
    {
      "cell_type": "code",
      "source": [
        "data['immunoMICRO-TUNEL'] = m.read_phenotype_data('568', 'LSDS-5_immunostaining_microscopy_TUNELtr_TRANSFORMED')\n",
        "print('number of samples: ', len(list(data['immunoMICRO-TUNEL']['Sample_Name'])))\n",
        "print('samples: ', list(data['immunoMICRO-TUNEL']['Sample_Name']))\n",
        "data['immunoMICRO-TUNEL'].head()\n",
        "\n",
        "#Plot\n",
        "\n"
      ],
      "metadata": {
        "colab": {
          "base_uri": "https://localhost:8080/",
          "height": 262
        },
        "id": "_es7p8kKuDDV",
        "outputId": "bf8c0038-f6d9-43bb-e7ec-a8469c6a1859"
      },
      "execution_count": 12,
      "outputs": [
        {
          "output_type": "stream",
          "name": "stdout",
          "text": [
            "number of samples:  23\n",
            "samples:  ['F15_Mouse_Eye', 'F16_Mouse_Eye', 'F17_Mouse_Eye', 'F18_Mouse_Eye', 'F19_Mouse_Eye', 'F20_Mouse_Eye', 'GC15_Mouse_Eye', 'GC16_Mouse_Eye', 'GC17_Mouse_Eye', 'GC18_Mouse_Eye', 'GC19_Mouse_Eye', 'GC20_Mouse_Eye', 'VG15_Mouse_Eye', 'VG16_Mouse_Eye', 'VG17_Mouse_Eye', 'VG18_Mouse_Eye', 'VG20_Mouse_Eye', 'V15_Mouse_Eye', 'V16_Mouse_Eye', 'V17_Mouse_Eye', 'V18_Mouse_Eye', 'V19_Mouse_Eye', 'V20_Mouse_Eye']\n"
          ]
        },
        {
          "output_type": "execute_result",
          "data": {
            "text/plain": [
              "     Sample_Name  Total  Total_EC  Total_Area     Density  Density_EC\n",
              "0  F15_Mouse_Eye    193        76    1.127330  171.200986   67.415932\n",
              "1  F16_Mouse_Eye    174        70    1.054249  165.046336   66.397951\n",
              "2  F17_Mouse_Eye    170        61    1.074499  158.213281   56.770648\n",
              "3  F18_Mouse_Eye    166        39    1.173785  141.422795   33.225837\n",
              "4  F19_Mouse_Eye    151        32    1.051339  143.626361   30.437374"
            ],
            "text/html": [
              "\n",
              "  <div id=\"df-a104da33-03be-447b-bf7b-71d2467efd1a\" class=\"colab-df-container\">\n",
              "    <div>\n",
              "<style scoped>\n",
              "    .dataframe tbody tr th:only-of-type {\n",
              "        vertical-align: middle;\n",
              "    }\n",
              "\n",
              "    .dataframe tbody tr th {\n",
              "        vertical-align: top;\n",
              "    }\n",
              "\n",
              "    .dataframe thead th {\n",
              "        text-align: right;\n",
              "    }\n",
              "</style>\n",
              "<table border=\"1\" class=\"dataframe\">\n",
              "  <thead>\n",
              "    <tr style=\"text-align: right;\">\n",
              "      <th></th>\n",
              "      <th>Sample_Name</th>\n",
              "      <th>Total</th>\n",
              "      <th>Total_EC</th>\n",
              "      <th>Total_Area</th>\n",
              "      <th>Density</th>\n",
              "      <th>Density_EC</th>\n",
              "    </tr>\n",
              "  </thead>\n",
              "  <tbody>\n",
              "    <tr>\n",
              "      <th>0</th>\n",
              "      <td>F15_Mouse_Eye</td>\n",
              "      <td>193</td>\n",
              "      <td>76</td>\n",
              "      <td>1.127330</td>\n",
              "      <td>171.200986</td>\n",
              "      <td>67.415932</td>\n",
              "    </tr>\n",
              "    <tr>\n",
              "      <th>1</th>\n",
              "      <td>F16_Mouse_Eye</td>\n",
              "      <td>174</td>\n",
              "      <td>70</td>\n",
              "      <td>1.054249</td>\n",
              "      <td>165.046336</td>\n",
              "      <td>66.397951</td>\n",
              "    </tr>\n",
              "    <tr>\n",
              "      <th>2</th>\n",
              "      <td>F17_Mouse_Eye</td>\n",
              "      <td>170</td>\n",
              "      <td>61</td>\n",
              "      <td>1.074499</td>\n",
              "      <td>158.213281</td>\n",
              "      <td>56.770648</td>\n",
              "    </tr>\n",
              "    <tr>\n",
              "      <th>3</th>\n",
              "      <td>F18_Mouse_Eye</td>\n",
              "      <td>166</td>\n",
              "      <td>39</td>\n",
              "      <td>1.173785</td>\n",
              "      <td>141.422795</td>\n",
              "      <td>33.225837</td>\n",
              "    </tr>\n",
              "    <tr>\n",
              "      <th>4</th>\n",
              "      <td>F19_Mouse_Eye</td>\n",
              "      <td>151</td>\n",
              "      <td>32</td>\n",
              "      <td>1.051339</td>\n",
              "      <td>143.626361</td>\n",
              "      <td>30.437374</td>\n",
              "    </tr>\n",
              "  </tbody>\n",
              "</table>\n",
              "</div>\n",
              "    <div class=\"colab-df-buttons\">\n",
              "\n",
              "  <div class=\"colab-df-container\">\n",
              "    <button class=\"colab-df-convert\" onclick=\"convertToInteractive('df-a104da33-03be-447b-bf7b-71d2467efd1a')\"\n",
              "            title=\"Convert this dataframe to an interactive table.\"\n",
              "            style=\"display:none;\">\n",
              "\n",
              "  <svg xmlns=\"http://www.w3.org/2000/svg\" height=\"24px\" viewBox=\"0 -960 960 960\">\n",
              "    <path d=\"M120-120v-720h720v720H120Zm60-500h600v-160H180v160Zm220 220h160v-160H400v160Zm0 220h160v-160H400v160ZM180-400h160v-160H180v160Zm440 0h160v-160H620v160ZM180-180h160v-160H180v160Zm440 0h160v-160H620v160Z\"/>\n",
              "  </svg>\n",
              "    </button>\n",
              "\n",
              "  <style>\n",
              "    .colab-df-container {\n",
              "      display:flex;\n",
              "      gap: 12px;\n",
              "    }\n",
              "\n",
              "    .colab-df-convert {\n",
              "      background-color: #E8F0FE;\n",
              "      border: none;\n",
              "      border-radius: 50%;\n",
              "      cursor: pointer;\n",
              "      display: none;\n",
              "      fill: #1967D2;\n",
              "      height: 32px;\n",
              "      padding: 0 0 0 0;\n",
              "      width: 32px;\n",
              "    }\n",
              "\n",
              "    .colab-df-convert:hover {\n",
              "      background-color: #E2EBFA;\n",
              "      box-shadow: 0px 1px 2px rgba(60, 64, 67, 0.3), 0px 1px 3px 1px rgba(60, 64, 67, 0.15);\n",
              "      fill: #174EA6;\n",
              "    }\n",
              "\n",
              "    .colab-df-buttons div {\n",
              "      margin-bottom: 4px;\n",
              "    }\n",
              "\n",
              "    [theme=dark] .colab-df-convert {\n",
              "      background-color: #3B4455;\n",
              "      fill: #D2E3FC;\n",
              "    }\n",
              "\n",
              "    [theme=dark] .colab-df-convert:hover {\n",
              "      background-color: #434B5C;\n",
              "      box-shadow: 0px 1px 3px 1px rgba(0, 0, 0, 0.15);\n",
              "      filter: drop-shadow(0px 1px 2px rgba(0, 0, 0, 0.3));\n",
              "      fill: #FFFFFF;\n",
              "    }\n",
              "  </style>\n",
              "\n",
              "    <script>\n",
              "      const buttonEl =\n",
              "        document.querySelector('#df-a104da33-03be-447b-bf7b-71d2467efd1a button.colab-df-convert');\n",
              "      buttonEl.style.display =\n",
              "        google.colab.kernel.accessAllowed ? 'block' : 'none';\n",
              "\n",
              "      async function convertToInteractive(key) {\n",
              "        const element = document.querySelector('#df-a104da33-03be-447b-bf7b-71d2467efd1a');\n",
              "        const dataTable =\n",
              "          await google.colab.kernel.invokeFunction('convertToInteractive',\n",
              "                                                    [key], {});\n",
              "        if (!dataTable) return;\n",
              "\n",
              "        const docLinkHtml = 'Like what you see? Visit the ' +\n",
              "          '<a target=\"_blank\" href=https://colab.research.google.com/notebooks/data_table.ipynb>data table notebook</a>'\n",
              "          + ' to learn more about interactive tables.';\n",
              "        element.innerHTML = '';\n",
              "        dataTable['output_type'] = 'display_data';\n",
              "        await google.colab.output.renderOutput(dataTable, element);\n",
              "        const docLink = document.createElement('div');\n",
              "        docLink.innerHTML = docLinkHtml;\n",
              "        element.appendChild(docLink);\n",
              "      }\n",
              "    </script>\n",
              "  </div>\n",
              "\n",
              "\n",
              "<div id=\"df-c6e0fc89-d754-4db7-bb55-16e8be50e4fb\">\n",
              "  <button class=\"colab-df-quickchart\" onclick=\"quickchart('df-c6e0fc89-d754-4db7-bb55-16e8be50e4fb')\"\n",
              "            title=\"Suggest charts\"\n",
              "            style=\"display:none;\">\n",
              "\n",
              "<svg xmlns=\"http://www.w3.org/2000/svg\" height=\"24px\"viewBox=\"0 0 24 24\"\n",
              "     width=\"24px\">\n",
              "    <g>\n",
              "        <path d=\"M19 3H5c-1.1 0-2 .9-2 2v14c0 1.1.9 2 2 2h14c1.1 0 2-.9 2-2V5c0-1.1-.9-2-2-2zM9 17H7v-7h2v7zm4 0h-2V7h2v10zm4 0h-2v-4h2v4z\"/>\n",
              "    </g>\n",
              "</svg>\n",
              "  </button>\n",
              "\n",
              "<style>\n",
              "  .colab-df-quickchart {\n",
              "      --bg-color: #E8F0FE;\n",
              "      --fill-color: #1967D2;\n",
              "      --hover-bg-color: #E2EBFA;\n",
              "      --hover-fill-color: #174EA6;\n",
              "      --disabled-fill-color: #AAA;\n",
              "      --disabled-bg-color: #DDD;\n",
              "  }\n",
              "\n",
              "  [theme=dark] .colab-df-quickchart {\n",
              "      --bg-color: #3B4455;\n",
              "      --fill-color: #D2E3FC;\n",
              "      --hover-bg-color: #434B5C;\n",
              "      --hover-fill-color: #FFFFFF;\n",
              "      --disabled-bg-color: #3B4455;\n",
              "      --disabled-fill-color: #666;\n",
              "  }\n",
              "\n",
              "  .colab-df-quickchart {\n",
              "    background-color: var(--bg-color);\n",
              "    border: none;\n",
              "    border-radius: 50%;\n",
              "    cursor: pointer;\n",
              "    display: none;\n",
              "    fill: var(--fill-color);\n",
              "    height: 32px;\n",
              "    padding: 0;\n",
              "    width: 32px;\n",
              "  }\n",
              "\n",
              "  .colab-df-quickchart:hover {\n",
              "    background-color: var(--hover-bg-color);\n",
              "    box-shadow: 0 1px 2px rgba(60, 64, 67, 0.3), 0 1px 3px 1px rgba(60, 64, 67, 0.15);\n",
              "    fill: var(--button-hover-fill-color);\n",
              "  }\n",
              "\n",
              "  .colab-df-quickchart-complete:disabled,\n",
              "  .colab-df-quickchart-complete:disabled:hover {\n",
              "    background-color: var(--disabled-bg-color);\n",
              "    fill: var(--disabled-fill-color);\n",
              "    box-shadow: none;\n",
              "  }\n",
              "\n",
              "  .colab-df-spinner {\n",
              "    border: 2px solid var(--fill-color);\n",
              "    border-color: transparent;\n",
              "    border-bottom-color: var(--fill-color);\n",
              "    animation:\n",
              "      spin 1s steps(1) infinite;\n",
              "  }\n",
              "\n",
              "  @keyframes spin {\n",
              "    0% {\n",
              "      border-color: transparent;\n",
              "      border-bottom-color: var(--fill-color);\n",
              "      border-left-color: var(--fill-color);\n",
              "    }\n",
              "    20% {\n",
              "      border-color: transparent;\n",
              "      border-left-color: var(--fill-color);\n",
              "      border-top-color: var(--fill-color);\n",
              "    }\n",
              "    30% {\n",
              "      border-color: transparent;\n",
              "      border-left-color: var(--fill-color);\n",
              "      border-top-color: var(--fill-color);\n",
              "      border-right-color: var(--fill-color);\n",
              "    }\n",
              "    40% {\n",
              "      border-color: transparent;\n",
              "      border-right-color: var(--fill-color);\n",
              "      border-top-color: var(--fill-color);\n",
              "    }\n",
              "    60% {\n",
              "      border-color: transparent;\n",
              "      border-right-color: var(--fill-color);\n",
              "    }\n",
              "    80% {\n",
              "      border-color: transparent;\n",
              "      border-right-color: var(--fill-color);\n",
              "      border-bottom-color: var(--fill-color);\n",
              "    }\n",
              "    90% {\n",
              "      border-color: transparent;\n",
              "      border-bottom-color: var(--fill-color);\n",
              "    }\n",
              "  }\n",
              "</style>\n",
              "\n",
              "  <script>\n",
              "    async function quickchart(key) {\n",
              "      const quickchartButtonEl =\n",
              "        document.querySelector('#' + key + ' button');\n",
              "      quickchartButtonEl.disabled = true;  // To prevent multiple clicks.\n",
              "      quickchartButtonEl.classList.add('colab-df-spinner');\n",
              "      try {\n",
              "        const charts = await google.colab.kernel.invokeFunction(\n",
              "            'suggestCharts', [key], {});\n",
              "      } catch (error) {\n",
              "        console.error('Error during call to suggestCharts:', error);\n",
              "      }\n",
              "      quickchartButtonEl.classList.remove('colab-df-spinner');\n",
              "      quickchartButtonEl.classList.add('colab-df-quickchart-complete');\n",
              "    }\n",
              "    (() => {\n",
              "      let quickchartButtonEl =\n",
              "        document.querySelector('#df-c6e0fc89-d754-4db7-bb55-16e8be50e4fb button');\n",
              "      quickchartButtonEl.style.display =\n",
              "        google.colab.kernel.accessAllowed ? 'block' : 'none';\n",
              "    })();\n",
              "  </script>\n",
              "</div>\n",
              "\n",
              "    </div>\n",
              "  </div>\n"
            ],
            "application/vnd.google.colaboratory.intrinsic+json": {
              "type": "dataframe",
              "summary": "{\n  \"name\": \"data['immunoMICRO-TUNEL']\",\n  \"rows\": 5,\n  \"fields\": [\n    {\n      \"column\": \"Sample_Name\",\n      \"properties\": {\n        \"dtype\": \"string\",\n        \"num_unique_values\": 5,\n        \"samples\": [\n          \"F16_Mouse_Eye\",\n          \"F19_Mouse_Eye\",\n          \"F17_Mouse_Eye\"\n        ],\n        \"semantic_type\": \"\",\n        \"description\": \"\"\n      }\n    },\n    {\n      \"column\": \"Total\",\n      \"properties\": {\n        \"dtype\": \"number\",\n        \"std\": 15,\n        \"min\": 151,\n        \"max\": 193,\n        \"num_unique_values\": 5,\n        \"samples\": [\n          174,\n          151,\n          170\n        ],\n        \"semantic_type\": \"\",\n        \"description\": \"\"\n      }\n    },\n    {\n      \"column\": \"Total_EC\",\n      \"properties\": {\n        \"dtype\": \"number\",\n        \"std\": 19,\n        \"min\": 32,\n        \"max\": 76,\n        \"num_unique_values\": 5,\n        \"samples\": [\n          70,\n          32,\n          61\n        ],\n        \"semantic_type\": \"\",\n        \"description\": \"\"\n      }\n    },\n    {\n      \"column\": \"Total_Area\",\n      \"properties\": {\n        \"dtype\": \"number\",\n        \"std\": 0.05299019302732024,\n        \"min\": 1.051339039,\n        \"max\": 1.173785313,\n        \"num_unique_values\": 5,\n        \"samples\": [\n          1.054249396,\n          1.051339039,\n          1.074498926\n        ],\n        \"semantic_type\": \"\",\n        \"description\": \"\"\n      }\n    },\n    {\n      \"column\": \"Density\",\n      \"properties\": {\n        \"dtype\": \"number\",\n        \"std\": 13.070563949464123,\n        \"min\": 141.4227953,\n        \"max\": 171.2009863,\n        \"num_unique_values\": 5,\n        \"samples\": [\n          165.0463359,\n          143.6263607,\n          158.2132806\n        ],\n        \"semantic_type\": \"\",\n        \"description\": \"\"\n      }\n    },\n    {\n      \"column\": \"Density_EC\",\n      \"properties\": {\n        \"dtype\": \"number\",\n        \"std\": 17.87812463210308,\n        \"min\": 30.43737445,\n        \"max\": 67.41593244,\n        \"num_unique_values\": 5,\n        \"samples\": [\n          66.39795124,\n          30.43737445,\n          56.77064774\n        ],\n        \"semantic_type\": \"\",\n        \"description\": \"\"\n      }\n    }\n  ]\n}"
            }
          },
          "metadata": {},
          "execution_count": 12
        }
      ]
    },
    {
      "cell_type": "code",
      "source": [
        "m.plotbox_and_stats(data_=data['immunoMICRO-TUNEL'], sample_key = 'Sample_Name', field='Density_EC', treatment=None, space=None, exclude_samples=[])"
      ],
      "metadata": {
        "id": "bqYh-kGxIWfs",
        "colab": {
          "base_uri": "https://localhost:8080/",
          "height": 591
        },
        "outputId": "fde0ebbe-2074-4fcc-900a-250ce3e82ec3"
      },
      "execution_count": 13,
      "outputs": [
        {
          "output_type": "stream",
          "name": "stdout",
          "text": [
            "field:  Density_EC\n",
            "excluding samples:  []\n",
            "{'Density_EC': {'t-test p-value': 0.01726}}\n",
            "n flight =  6\n",
            "n nonflight =  17\n"
          ]
        },
        {
          "output_type": "display_data",
          "data": {
            "text/plain": [
              "<Figure size 640x480 with 1 Axes>"
            ],
            "image/png": "[encoded data removed]"
          },
          "metadata": {}
        }
      ]
    },
    {
      "cell_type": "markdown",
      "source": [
        "## Explore the PECAM data\n"
      ],
      "metadata": {
        "id": "2jlkRMm1vIOJ"
      }
    },
    {
      "cell_type": "code",
      "source": [
        "data['immunoMICRO-PECAM'] = m.read_phenotype_data('568', 'LSDS-5_immunostaining_microscopy_PECAMtr_TRANSFORMED')\n",
        "print('number of samples: ', len(list(data['immunoMICRO-PECAM']['Sample_Name'])))\n",
        "print('samples: ', list(data['immunoMICRO-PECAM']['Sample_Name']))\n",
        "data['immunoMICRO-PECAM'].head()"
      ],
      "metadata": {
        "colab": {
          "base_uri": "https://localhost:8080/",
          "height": 262
        },
        "id": "6dd2-v4IvNAU",
        "outputId": "557bad6e-3ddd-41db-95c1-4f8a294e8a71"
      },
      "execution_count": 14,
      "outputs": [
        {
          "output_type": "stream",
          "name": "stdout",
          "text": [
            "number of samples:  11\n",
            "samples:  ['F15_Mouse_Eye', 'F16_Mouse_Eye', 'F17_Mouse_Eye', 'F18_Mouse_Eye', 'F19_Mouse_Eye', 'F20_Mouse_Eye', 'GC15_Mouse_Eye', 'GC16_Mouse_Eye', 'GC17_Mouse_Eye', 'GC18_Mouse_Eye', 'GC19_Mouse_Eye']\n"
          ]
        },
        {
          "output_type": "execute_result",
          "data": {
            "text/plain": [
              "     Sample_Name  Average\n",
              "0  F15_Mouse_Eye  45.0098\n",
              "1  F16_Mouse_Eye  53.9888\n",
              "2  F17_Mouse_Eye  37.0548\n",
              "3  F18_Mouse_Eye  67.0988\n",
              "4  F19_Mouse_Eye  49.7456"
            ],
            "text/html": [
              "\n",
              "  <div id=\"df-2050e32c-3617-464e-a639-d0d346b6d8f1\" class=\"colab-df-container\">\n",
              "    <div>\n",
              "<style scoped>\n",
              "    .dataframe tbody tr th:only-of-type {\n",
              "        vertical-align: middle;\n",
              "    }\n",
              "\n",
              "    .dataframe tbody tr th {\n",
              "        vertical-align: top;\n",
              "    }\n",
              "\n",
              "    .dataframe thead th {\n",
              "        text-align: right;\n",
              "    }\n",
              "</style>\n",
              "<table border=\"1\" class=\"dataframe\">\n",
              "  <thead>\n",
              "    <tr style=\"text-align: right;\">\n",
              "      <th></th>\n",
              "      <th>Sample_Name</th>\n",
              "      <th>Average</th>\n",
              "    </tr>\n",
              "  </thead>\n",
              "  <tbody>\n",
              "    <tr>\n",
              "      <th>0</th>\n",
              "      <td>F15_Mouse_Eye</td>\n",
              "      <td>45.0098</td>\n",
              "    </tr>\n",
              "    <tr>\n",
              "      <th>1</th>\n",
              "      <td>F16_Mouse_Eye</td>\n",
              "      <td>53.9888</td>\n",
              "    </tr>\n",
              "    <tr>\n",
              "      <th>2</th>\n",
              "      <td>F17_Mouse_Eye</td>\n",
              "      <td>37.0548</td>\n",
              "    </tr>\n",
              "    <tr>\n",
              "      <th>3</th>\n",
              "      <td>F18_Mouse_Eye</td>\n",
              "      <td>67.0988</td>\n",
              "    </tr>\n",
              "    <tr>\n",
              "      <th>4</th>\n",
              "      <td>F19_Mouse_Eye</td>\n",
              "      <td>49.7456</td>\n",
              "    </tr>\n",
              "  </tbody>\n",
              "</table>\n",
              "</div>\n",
              "    <div class=\"colab-df-buttons\">\n",
              "\n",
              "  <div class=\"colab-df-container\">\n",
              "    <button class=\"colab-df-convert\" onclick=\"convertToInteractive('df-2050e32c-3617-464e-a639-d0d346b6d8f1')\"\n",
              "            title=\"Convert this dataframe to an interactive table.\"\n",
              "            style=\"display:none;\">\n",
              "\n",
              "  <svg xmlns=\"http://www.w3.org/2000/svg\" height=\"24px\" viewBox=\"0 -960 960 960\">\n",
              "    <path d=\"M120-120v-720h720v720H120Zm60-500h600v-160H180v160Zm220 220h160v-160H400v160Zm0 220h160v-160H400v160ZM180-400h160v-160H180v160Zm440 0h160v-160H620v160ZM180-180h160v-160H180v160Zm440 0h160v-160H620v160Z\"/>\n",
              "  </svg>\n",
              "    </button>\n",
              "\n",
              "  <style>\n",
              "    .colab-df-container {\n",
              "      display:flex;\n",
              "      gap: 12px;\n",
              "    }\n",
              "\n",
              "    .colab-df-convert {\n",
              "      background-color: #E8F0FE;\n",
              "      border: none;\n",
              "      border-radius: 50%;\n",
              "      cursor: pointer;\n",
              "      display: none;\n",
              "      fill: #1967D2;\n",
              "      height: 32px;\n",
              "      padding: 0 0 0 0;\n",
              "      width: 32px;\n",
              "    }\n",
              "\n",
              "    .colab-df-convert:hover {\n",
              "      background-color: #E2EBFA;\n",
              "      box-shadow: 0px 1px 2px rgba(60, 64, 67, 0.3), 0px 1px 3px 1px rgba(60, 64, 67, 0.15);\n",
              "      fill: #174EA6;\n",
              "    }\n",
              "\n",
              "    .colab-df-buttons div {\n",
              "      margin-bottom: 4px;\n",
              "    }\n",
              "\n",
              "    [theme=dark] .colab-df-convert {\n",
              "      background-color: #3B4455;\n",
              "      fill: #D2E3FC;\n",
              "    }\n",
              "\n",
              "    [theme=dark] .colab-df-convert:hover {\n",
              "      background-color: #434B5C;\n",
              "      box-shadow: 0px 1px 3px 1px rgba(0, 0, 0, 0.15);\n",
              "      filter: drop-shadow(0px 1px 2px rgba(0, 0, 0, 0.3));\n",
              "      fill: #FFFFFF;\n",
              "    }\n",
              "  </style>\n",
              "\n",
              "    <script>\n",
              "      const buttonEl =\n",
              "        document.querySelector('#df-2050e32c-3617-464e-a639-d0d346b6d8f1 button.colab-df-convert');\n",
              "      buttonEl.style.display =\n",
              "        google.colab.kernel.accessAllowed ? 'block' : 'none';\n",
              "\n",
              "      async function convertToInteractive(key) {\n",
              "        const element = document.querySelector('#df-2050e32c-3617-464e-a639-d0d346b6d8f1');\n",
              "        const dataTable =\n",
              "          await google.colab.kernel.invokeFunction('convertToInteractive',\n",
              "                                                    [key], {});\n",
              "        if (!dataTable) return;\n",
              "\n",
              "        const docLinkHtml = 'Like what you see? Visit the ' +\n",
              "          '<a target=\"_blank\" href=https://colab.research.google.com/notebooks/data_table.ipynb>data table notebook</a>'\n",
              "          + ' to learn more about interactive tables.';\n",
              "        element.innerHTML = '';\n",
              "        dataTable['output_type'] = 'display_data';\n",
              "        await google.colab.output.renderOutput(dataTable, element);\n",
              "        const docLink = document.createElement('div');\n",
              "        docLink.innerHTML = docLinkHtml;\n",
              "        element.appendChild(docLink);\n",
              "      }\n",
              "    </script>\n",
              "  </div>\n",
              "\n",
              "\n",
              "<div id=\"df-ea1e08bd-8f30-488a-9683-752923737f6c\">\n",
              "  <button class=\"colab-df-quickchart\" onclick=\"quickchart('df-ea1e08bd-8f30-488a-9683-752923737f6c')\"\n",
              "            title=\"Suggest charts\"\n",
              "            style=\"display:none;\">\n",
              "\n",
              "<svg xmlns=\"http://www.w3.org/2000/svg\" height=\"24px\"viewBox=\"0 0 24 24\"\n",
              "     width=\"24px\">\n",
              "    <g>\n",
              "        <path d=\"M19 3H5c-1.1 0-2 .9-2 2v14c0 1.1.9 2 2 2h14c1.1 0 2-.9 2-2V5c0-1.1-.9-2-2-2zM9 17H7v-7h2v7zm4 0h-2V7h2v10zm4 0h-2v-4h2v4z\"/>\n",
              "    </g>\n",
              "</svg>\n",
              "  </button>\n",
              "\n",
              "<style>\n",
              "  .colab-df-quickchart {\n",
              "      --bg-color: #E8F0FE;\n",
              "      --fill-color: #1967D2;\n",
              "      --hover-bg-color: #E2EBFA;\n",
              "      --hover-fill-color: #174EA6;\n",
              "      --disabled-fill-color: #AAA;\n",
              "      --disabled-bg-color: #DDD;\n",
              "  }\n",
              "\n",
              "  [theme=dark] .colab-df-quickchart {\n",
              "      --bg-color: #3B4455;\n",
              "      --fill-color: #D2E3FC;\n",
              "      --hover-bg-color: #434B5C;\n",
              "      --hover-fill-color: #FFFFFF;\n",
              "      --disabled-bg-color: #3B4455;\n",
              "      --disabled-fill-color: #666;\n",
              "  }\n",
              "\n",
              "  .colab-df-quickchart {\n",
              "    background-color: var(--bg-color);\n",
              "    border: none;\n",
              "    border-radius: 50%;\n",
              "    cursor: pointer;\n",
              "    display: none;\n",
              "    fill: var(--fill-color);\n",
              "    height: 32px;\n",
              "    padding: 0;\n",
              "    width: 32px;\n",
              "  }\n",
              "\n",
              "  .colab-df-quickchart:hover {\n",
              "    background-color: var(--hover-bg-color);\n",
              "    box-shadow: 0 1px 2px rgba(60, 64, 67, 0.3), 0 1px 3px 1px rgba(60, 64, 67, 0.15);\n",
              "    fill: var(--button-hover-fill-color);\n",
              "  }\n",
              "\n",
              "  .colab-df-quickchart-complete:disabled,\n",
              "  .colab-df-quickchart-complete:disabled:hover {\n",
              "    background-color: var(--disabled-bg-color);\n",
              "    fill: var(--disabled-fill-color);\n",
              "    box-shadow: none;\n",
              "  }\n",
              "\n",
              "  .colab-df-spinner {\n",
              "    border: 2px solid var(--fill-color);\n",
              "    border-color: transparent;\n",
              "    border-bottom-color: var(--fill-color);\n",
              "    animation:\n",
              "      spin 1s steps(1) infinite;\n",
              "  }\n",
              "\n",
              "  @keyframes spin {\n",
              "    0% {\n",
              "      border-color: transparent;\n",
              "      border-bottom-color: var(--fill-color);\n",
              "      border-left-color: var(--fill-color);\n",
              "    }\n",
              "    20% {\n",
              "      border-color: transparent;\n",
              "      border-left-color: var(--fill-color);\n",
              "      border-top-color: var(--fill-color);\n",
              "    }\n",
              "    30% {\n",
              "      border-color: transparent;\n",
              "      border-left-color: var(--fill-color);\n",
              "      border-top-color: var(--fill-color);\n",
              "      border-right-color: var(--fill-color);\n",
              "    }\n",
              "    40% {\n",
              "      border-color: transparent;\n",
              "      border-right-color: var(--fill-color);\n",
              "      border-top-color: var(--fill-color);\n",
              "    }\n",
              "    60% {\n",
              "      border-color: transparent;\n",
              "      border-right-color: var(--fill-color);\n",
              "    }\n",
              "    80% {\n",
              "      border-color: transparent;\n",
              "      border-right-color: var(--fill-color);\n",
              "      border-bottom-color: var(--fill-color);\n",
              "    }\n",
              "    90% {\n",
              "      border-color: transparent;\n",
              "      border-bottom-color: var(--fill-color);\n",
              "    }\n",
              "  }\n",
              "</style>\n",
              "\n",
              "  <script>\n",
              "    async function quickchart(key) {\n",
              "      const quickchartButtonEl =\n",
              "        document.querySelector('#' + key + ' button');\n",
              "      quickchartButtonEl.disabled = true;  // To prevent multiple clicks.\n",
              "      quickchartButtonEl.classList.add('colab-df-spinner');\n",
              "      try {\n",
              "        const charts = await google.colab.kernel.invokeFunction(\n",
              "            'suggestCharts', [key], {});\n",
              "      } catch (error) {\n",
              "        console.error('Error during call to suggestCharts:', error);\n",
              "      }\n",
              "      quickchartButtonEl.classList.remove('colab-df-spinner');\n",
              "      quickchartButtonEl.classList.add('colab-df-quickchart-complete');\n",
              "    }\n",
              "    (() => {\n",
              "      let quickchartButtonEl =\n",
              "        document.querySelector('#df-ea1e08bd-8f30-488a-9683-752923737f6c button');\n",
              "      quickchartButtonEl.style.display =\n",
              "        google.colab.kernel.accessAllowed ? 'block' : 'none';\n",
              "    })();\n",
              "  </script>\n",
              "</div>\n",
              "\n",
              "    </div>\n",
              "  </div>\n"
            ],
            "application/vnd.google.colaboratory.intrinsic+json": {
              "type": "dataframe",
              "summary": "{\n  \"name\": \"data['immunoMICRO-PECAM']\",\n  \"rows\": 5,\n  \"fields\": [\n    {\n      \"column\": \"Sample_Name\",\n      \"properties\": {\n        \"dtype\": \"string\",\n        \"num_unique_values\": 5,\n        \"samples\": [\n          \"F16_Mouse_Eye\",\n          \"F19_Mouse_Eye\",\n          \"F17_Mouse_Eye\"\n        ],\n        \"semantic_type\": \"\",\n        \"description\": \"\"\n      }\n    },\n    {\n      \"column\": \"Average\",\n      \"properties\": {\n        \"dtype\": \"number\",\n        \"std\": 11.170777237417276,\n        \"min\": 37.0548,\n        \"max\": 67.0988,\n        \"num_unique_values\": 5,\n        \"samples\": [\n          53.9888,\n          49.7456,\n          37.0548\n        ],\n        \"semantic_type\": \"\",\n        \"description\": \"\"\n      }\n    }\n  ]\n}"
            }
          },
          "metadata": {},
          "execution_count": 14
        }
      ]
    },
    {
      "cell_type": "code",
      "source": [
        "m.plotbox_and_stats(data_=data['immunoMICRO-PECAM'], sample_key = 'Sample_Name', field='Average', treatment=None, space=None, exclude_samples=[])"
      ],
      "metadata": {
        "colab": {
          "base_uri": "https://localhost:8080/",
          "height": 580
        },
        "id": "hejxVZ4wvPkB",
        "outputId": "446ec6c9-e0e2-4d21-bf32-47a89b28d1ae"
      },
      "execution_count": 15,
      "outputs": [
        {
          "output_type": "stream",
          "name": "stdout",
          "text": [
            "field:  Average\n",
            "excluding samples:  []\n",
            "{'Average': {'t-test p-value': 0.02146}}\n",
            "n flight =  6\n",
            "n nonflight =  5\n"
          ]
        },
        {
          "output_type": "display_data",
          "data": {
            "text/plain": [
              "<Figure size 640x480 with 1 Axes>"
            ],
            "image/png": "[encoded data removed]"
          },
          "metadata": {}
        }
      ]
    },
    {
      "cell_type": "markdown",
      "source": [
        "# OSD-583 Data Exploration"
      ],
      "metadata": {
        "id": "KWxzFfHfvl8C"
      }
    },
    {
      "cell_type": "markdown",
      "source": [
        "Read in tonometry transformed data\n"
      ],
      "metadata": {
        "id": "HuNX3aTKwwXN"
      }
    },
    {
      "cell_type": "code",
      "source": [
        "data['iop'] = m.read_phenotype_data('583', 'LSDS-16_tonometry_maoTRANSFORMED')\n",
        "print('num samples: ', str(len(list(data['iop']['Sample Name']))))\n",
        "print('samples: ', list(data['iop']['Sample Name']))\n",
        "data['iop'].head()"
      ],
      "metadata": {
        "colab": {
          "base_uri": "https://localhost:8080/",
          "height": 297
        },
        "id": "ytrthMQ-w1aL",
        "outputId": "5564464e-3f6c-4b70-99bb-6e6dfaeeeaf0"
      },
      "execution_count": 16,
      "outputs": [
        {
          "output_type": "stream",
          "name": "stdout",
          "text": [
            "num samples:  100\n",
            "samples:  ['F1_Mouse_Eye', 'F2_Mouse_Eye', 'F3_Mouse_Eye', 'F4_Mouse_Eye', 'F5_Mouse_Eye', 'F6_Mouse_Eye', 'F7_Mouse_Eye', 'F8_Mouse_Eye', 'F9_Mouse_Eye', 'F10_Mouse_Eye', 'F11_Mouse_Eye', 'F12_Mouse_Eye', 'F13_Mouse_Eye', 'F14_Mouse_Eye', 'F15_Mouse_Eye', 'F16_Mouse_Eye', 'F17_Mouse_Eye', 'F18_Mouse_Eye', 'F19_Mouse_Eye', 'F20_Mouse_Eye', 'FViv1_CC1_Mouse_Eye', 'FViv2_CC1_Mouse_Eye', 'FViv3_CC1_Mouse_Eye', 'FViv4_CC1_Mouse_Eye', 'FViv5_CC1_Mouse_Eye', 'FViv6_CC1_Mouse_Eye', 'FViv7_CC1_Mouse_Eye', 'FViv8_CC1_Mouse_Eye', 'FViv9_CC1_Mouse_Eye', 'FViv10_CC1_Mouse_Eye', 'FViv11_CC1_Mouse_Eye', 'FViv12_CC1_Mouse_Eye', 'FViv13_CC1_Mouse_Eye', 'FViv14_CC1_Mouse_Eye', 'FViv15_CC1_Mouse_Eye', 'FViv16_CC1_Mouse_Eye', 'FViv17_CC1_Mouse_Eye', 'FViv18_CC1_Mouse_Eye', 'FViv19_CC1_Mouse_Eye', 'FViv20_CC1_Mouse_Eye', 'GC1_Mouse_Eye', 'GC2_Mouse_Eye', 'GC3_Mouse_Eye', 'GC4_Mouse_Eye', 'GC5_Mouse_Eye', 'GC6_Mouse_Eye', 'GC7_Mouse_Eye', 'GC8_Mouse_Eye', 'GC9_Mouse_Eye', 'GC10_Mouse_Eye', 'GC11_Mouse_Eye', 'GC12_Mouse_Eye', 'GC13_Mouse_Eye', 'GC14_Mouse_Eye', 'GC15_Mouse_Eye', 'GC16_Mouse_Eye', 'GC17_Mouse_Eye', 'GC18_Mouse_Eye', 'GC19_Mouse_Eye', 'GC20_Mouse_Eye', 'Viv1_Mouse_Eye', 'Viv2_Mouse_Eye', 'Viv3_Mouse_Eye', 'Viv4_Mouse_Eye', 'Viv5_Mouse_Eye', 'Viv6_Mouse_Eye', 'Viv7_Mouse_Eye', 'Viv8_Mouse_Eye', 'Viv9_Mouse_Eye', 'Viv10_Mouse_Eye', 'Viv11_Mouse_Eye', 'Viv12_Mouse_Eye', 'Viv13_Mouse_Eye', 'Viv14_Mouse_Eye', 'Viv15_Mouse_Eye', 'Viv16_Mouse_Eye', 'Viv17_Mouse_Eye', 'Viv18_Mouse_Eye', 'Viv19_Mouse_Eye', 'Viv20_Mouse_Eye', 'CC2_1_Mouse_Eye', 'CC2_2_Mouse_Eye', 'CC2_3_Mouse_Eye', 'CC2_4_Mouse_Eye', 'CC2_5_Mouse_Eye', 'CC2_6_Mouse_Eye', 'CC2_7_Mouse_Eye', 'CC2_8_Mouse_Eye', 'CC2_9_Mouse_Eye', 'CC2_10_Mouse_Eye', 'CC2_11_Mouse_Eye', 'CC2_12_Mouse_Eye', 'CC2_13_Mouse_Eye', 'CC2_14_Mouse_Eye', 'CC2_15_Mouse_Eye', 'CC2_16_Mouse_Eye', 'CC2_17_Mouse_Eye', 'CC2_18_Mouse_Eye', 'CC2_19_Mouse_Eye', 'CC2_20_Mouse_Eye']\n"
          ]
        },
        {
          "output_type": "execute_result",
          "data": {
            "text/plain": [
              "  Source Name   Sample Name Factor Value: Spaceflight  Left_1  Left_2  Left_3  \\\n",
              "0          F1  F1_Mouse_Eye              Space Flight      19      16      18   \n",
              "1          F2  F2_Mouse_Eye              Space Flight      17      16      16   \n",
              "2          F3  F3_Mouse_Eye              Space Flight      16      18      15   \n",
              "3          F4  F4_Mouse_Eye              Space Flight      18      15      16   \n",
              "4          F5  F5_Mouse_Eye              Space Flight      18      18      16   \n",
              "\n",
              "    Avg_Left  Right_1  Right_2  Right_3  Avg_Right time_Start Time_End  \n",
              "0  17.666667       18       18       15  17.000000       2:46     2:48  \n",
              "1  16.333333       16       16       15  15.666667       2:55     2:58  \n",
              "2  16.333333       17       19       17  17.666667       2:32     2:34  \n",
              "3  16.333333       18       16       15  16.333333       2:15     2:17  \n",
              "4  17.333333       14       16       14  14.666667       2:20     2:22  "
            ],
            "text/html": [
              "\n",
              "  <div id=\"df-a1a0a774-ec8b-414a-a0ed-bb3aef58d1ea\" class=\"colab-df-container\">\n",
              "    <div>\n",
              "<style scoped>\n",
              "    .dataframe tbody tr th:only-of-type {\n",
              "        vertical-align: middle;\n",
              "    }\n",
              "\n",
              "    .dataframe tbody tr th {\n",
              "        vertical-align: top;\n",
              "    }\n",
              "\n",
              "    .dataframe thead th {\n",
              "        text-align: right;\n",
              "    }\n",
              "</style>\n",
              "<table border=\"1\" class=\"dataframe\">\n",
              "  <thead>\n",
              "    <tr style=\"text-align: right;\">\n",
              "      <th></th>\n",
              "      <th>Source Name</th>\n",
              "      <th>Sample Name</th>\n",
              "      <th>Factor Value: Spaceflight</th>\n",
              "      <th>Left_1</th>\n",
              "      <th>Left_2</th>\n",
              "      <th>Left_3</th>\n",
              "      <th>Avg_Left</th>\n",
              "      <th>Right_1</th>\n",
              "      <th>Right_2</th>\n",
              "      <th>Right_3</th>\n",
              "      <th>Avg_Right</th>\n",
              "      <th>time_Start</th>\n",
              "      <th>Time_End</th>\n",
              "    </tr>\n",
              "  </thead>\n",
              "  <tbody>\n",
              "    <tr>\n",
              "      <th>0</th>\n",
              "      <td>F1</td>\n",
              "      <td>F1_Mouse_Eye</td>\n",
              "      <td>Space Flight</td>\n",
              "      <td>19</td>\n",
              "      <td>16</td>\n",
              "      <td>18</td>\n",
              "      <td>17.666667</td>\n",
              "      <td>18</td>\n",
              "      <td>18</td>\n",
              "      <td>15</td>\n",
              "      <td>17.000000</td>\n",
              "      <td>2:46</td>\n",
              "      <td>2:48</td>\n",
              "    </tr>\n",
              "    <tr>\n",
              "      <th>1</th>\n",
              "      <td>F2</td>\n",
              "      <td>F2_Mouse_Eye</td>\n",
              "      <td>Space Flight</td>\n",
              "      <td>17</td>\n",
              "      <td>16</td>\n",
              "      <td>16</td>\n",
              "      <td>16.333333</td>\n",
              "      <td>16</td>\n",
              "      <td>16</td>\n",
              "      <td>15</td>\n",
              "      <td>15.666667</td>\n",
              "      <td>2:55</td>\n",
              "      <td>2:58</td>\n",
              "    </tr>\n",
              "    <tr>\n",
              "      <th>2</th>\n",
              "      <td>F3</td>\n",
              "      <td>F3_Mouse_Eye</td>\n",
              "      <td>Space Flight</td>\n",
              "      <td>16</td>\n",
              "      <td>18</td>\n",
              "      <td>15</td>\n",
              "      <td>16.333333</td>\n",
              "      <td>17</td>\n",
              "      <td>19</td>\n",
              "      <td>17</td>\n",
              "      <td>17.666667</td>\n",
              "      <td>2:32</td>\n",
              "      <td>2:34</td>\n",
              "    </tr>\n",
              "    <tr>\n",
              "      <th>3</th>\n",
              "      <td>F4</td>\n",
              "      <td>F4_Mouse_Eye</td>\n",
              "      <td>Space Flight</td>\n",
              "      <td>18</td>\n",
              "      <td>15</td>\n",
              "      <td>16</td>\n",
              "      <td>16.333333</td>\n",
              "      <td>18</td>\n",
              "      <td>16</td>\n",
              "      <td>15</td>\n",
              "      <td>16.333333</td>\n",
              "      <td>2:15</td>\n",
              "      <td>2:17</td>\n",
              "    </tr>\n",
              "    <tr>\n",
              "      <th>4</th>\n",
              "      <td>F5</td>\n",
              "      <td>F5_Mouse_Eye</td>\n",
              "      <td>Space Flight</td>\n",
              "      <td>18</td>\n",
              "      <td>18</td>\n",
              "      <td>16</td>\n",
              "      <td>17.333333</td>\n",
              "      <td>14</td>\n",
              "      <td>16</td>\n",
              "      <td>14</td>\n",
              "      <td>14.666667</td>\n",
              "      <td>2:20</td>\n",
              "      <td>2:22</td>\n",
              "    </tr>\n",
              "  </tbody>\n",
              "</table>\n",
              "</div>\n",
              "    <div class=\"colab-df-buttons\">\n",
              "\n",
              "  <div class=\"colab-df-container\">\n",
              "    <button class=\"colab-df-convert\" onclick=\"convertToInteractive('df-a1a0a774-ec8b-414a-a0ed-bb3aef58d1ea')\"\n",
              "            title=\"Convert this dataframe to an interactive table.\"\n",
              "            style=\"display:none;\">\n",
              "\n",
              "  <svg xmlns=\"http://www.w3.org/2000/svg\" height=\"24px\" viewBox=\"0 -960 960 960\">\n",
              "    <path d=\"M120-120v-720h720v720H120Zm60-500h600v-160H180v160Zm220 220h160v-160H400v160Zm0 220h160v-160H400v160ZM180-400h160v-160H180v160Zm440 0h160v-160H620v160ZM180-180h160v-160H180v160Zm440 0h160v-160H620v160Z\"/>\n",
              "  </svg>\n",
              "    </button>\n",
              "\n",
              "  <style>\n",
              "    .colab-df-container {\n",
              "      display:flex;\n",
              "      gap: 12px;\n",
              "    }\n",
              "\n",
              "    .colab-df-convert {\n",
              "      background-color: #E8F0FE;\n",
              "      border: none;\n",
              "      border-radius: 50%;\n",
              "      cursor: pointer;\n",
              "      display: none;\n",
              "      fill: #1967D2;\n",
              "      height: 32px;\n",
              "      padding: 0 0 0 0;\n",
              "      width: 32px;\n",
              "    }\n",
              "\n",
              "    .colab-df-convert:hover {\n",
              "      background-color: #E2EBFA;\n",
              "      box-shadow: 0px 1px 2px rgba(60, 64, 67, 0.3), 0px 1px 3px 1px rgba(60, 64, 67, 0.15);\n",
              "      fill: #174EA6;\n",
              "    }\n",
              "\n",
              "    .colab-df-buttons div {\n",
              "      margin-bottom: 4px;\n",
              "    }\n",
              "\n",
              "    [theme=dark] .colab-df-convert {\n",
              "      background-color: #3B4455;\n",
              "      fill: #D2E3FC;\n",
              "    }\n",
              "\n",
              "    [theme=dark] .colab-df-convert:hover {\n",
              "      background-color: #434B5C;\n",
              "      box-shadow: 0px 1px 3px 1px rgba(0, 0, 0, 0.15);\n",
              "      filter: drop-shadow(0px 1px 2px rgba(0, 0, 0, 0.3));\n",
              "      fill: #FFFFFF;\n",
              "    }\n",
              "  </style>\n",
              "\n",
              "    <script>\n",
              "      const buttonEl =\n",
              "        document.querySelector('#df-a1a0a774-ec8b-414a-a0ed-bb3aef58d1ea button.colab-df-convert');\n",
              "      buttonEl.style.display =\n",
              "        google.colab.kernel.accessAllowed ? 'block' : 'none';\n",
              "\n",
              "      async function convertToInteractive(key) {\n",
              "        const element = document.querySelector('#df-a1a0a774-ec8b-414a-a0ed-bb3aef58d1ea');\n",
              "        const dataTable =\n",
              "          await google.colab.kernel.invokeFunction('convertToInteractive',\n",
              "                                                    [key], {});\n",
              "        if (!dataTable) return;\n",
              "\n",
              "        const docLinkHtml = 'Like what you see? Visit the ' +\n",
              "          '<a target=\"_blank\" href=https://colab.research.google.com/notebooks/data_table.ipynb>data table notebook</a>'\n",
              "          + ' to learn more about interactive tables.';\n",
              "        element.innerHTML = '';\n",
              "        dataTable['output_type'] = 'display_data';\n",
              "        await google.colab.output.renderOutput(dataTable, element);\n",
              "        const docLink = document.createElement('div');\n",
              "        docLink.innerHTML = docLinkHtml;\n",
              "        element.appendChild(docLink);\n",
              "      }\n",
              "    </script>\n",
              "  </div>\n",
              "\n",
              "\n",
              "<div id=\"df-bdd0b271-fdd8-46d2-8f86-42bde053f389\">\n",
              "  <button class=\"colab-df-quickchart\" onclick=\"quickchart('df-bdd0b271-fdd8-46d2-8f86-42bde053f389')\"\n",
              "            title=\"Suggest charts\"\n",
              "            style=\"display:none;\">\n",
              "\n",
              "<svg xmlns=\"http://www.w3.org/2000/svg\" height=\"24px\"viewBox=\"0 0 24 24\"\n",
              "     width=\"24px\">\n",
              "    <g>\n",
              "        <path d=\"M19 3H5c-1.1 0-2 .9-2 2v14c0 1.1.9 2 2 2h14c1.1 0 2-.9 2-2V5c0-1.1-.9-2-2-2zM9 17H7v-7h2v7zm4 0h-2V7h2v10zm4 0h-2v-4h2v4z\"/>\n",
              "    </g>\n",
              "</svg>\n",
              "  </button>\n",
              "\n",
              "<style>\n",
              "  .colab-df-quickchart {\n",
              "      --bg-color: #E8F0FE;\n",
              "      --fill-color: #1967D2;\n",
              "      --hover-bg-color: #E2EBFA;\n",
              "      --hover-fill-color: #174EA6;\n",
              "      --disabled-fill-color: #AAA;\n",
              "      --disabled-bg-color: #DDD;\n",
              "  }\n",
              "\n",
              "  [theme=dark] .colab-df-quickchart {\n",
              "      --bg-color: #3B4455;\n",
              "      --fill-color: #D2E3FC;\n",
              "      --hover-bg-color: #434B5C;\n",
              "      --hover-fill-color: #FFFFFF;\n",
              "      --disabled-bg-color: #3B4455;\n",
              "      --disabled-fill-color: #666;\n",
              "  }\n",
              "\n",
              "  .colab-df-quickchart {\n",
              "    background-color: var(--bg-color);\n",
              "    border: none;\n",
              "    border-radius: 50%;\n",
              "    cursor: pointer;\n",
              "    display: none;\n",
              "    fill: var(--fill-color);\n",
              "    height: 32px;\n",
              "    padding: 0;\n",
              "    width: 32px;\n",
              "  }\n",
              "\n",
              "  .colab-df-quickchart:hover {\n",
              "    background-color: var(--hover-bg-color);\n",
              "    box-shadow: 0 1px 2px rgba(60, 64, 67, 0.3), 0 1px 3px 1px rgba(60, 64, 67, 0.15);\n",
              "    fill: var(--button-hover-fill-color);\n",
              "  }\n",
              "\n",
              "  .colab-df-quickchart-complete:disabled,\n",
              "  .colab-df-quickchart-complete:disabled:hover {\n",
              "    background-color: var(--disabled-bg-color);\n",
              "    fill: var(--disabled-fill-color);\n",
              "    box-shadow: none;\n",
              "  }\n",
              "\n",
              "  .colab-df-spinner {\n",
              "    border: 2px solid var(--fill-color);\n",
              "    border-color: transparent;\n",
              "    border-bottom-color: var(--fill-color);\n",
              "    animation:\n",
              "      spin 1s steps(1) infinite;\n",
              "  }\n",
              "\n",
              "  @keyframes spin {\n",
              "    0% {\n",
              "      border-color: transparent;\n",
              "      border-bottom-color: var(--fill-color);\n",
              "      border-left-color: var(--fill-color);\n",
              "    }\n",
              "    20% {\n",
              "      border-color: transparent;\n",
              "      border-left-color: var(--fill-color);\n",
              "      border-top-color: var(--fill-color);\n",
              "    }\n",
              "    30% {\n",
              "      border-color: transparent;\n",
              "      border-left-color: var(--fill-color);\n",
              "      border-top-color: var(--fill-color);\n",
              "      border-right-color: var(--fill-color);\n",
              "    }\n",
              "    40% {\n",
              "      border-color: transparent;\n",
              "      border-right-color: var(--fill-color);\n",
              "      border-top-color: var(--fill-color);\n",
              "    }\n",
              "    60% {\n",
              "      border-color: transparent;\n",
              "      border-right-color: var(--fill-color);\n",
              "    }\n",
              "    80% {\n",
              "      border-color: transparent;\n",
              "      border-right-color: var(--fill-color);\n",
              "      border-bottom-color: var(--fill-color);\n",
              "    }\n",
              "    90% {\n",
              "      border-color: transparent;\n",
              "      border-bottom-color: var(--fill-color);\n",
              "    }\n",
              "  }\n",
              "</style>\n",
              "\n",
              "  <script>\n",
              "    async function quickchart(key) {\n",
              "      const quickchartButtonEl =\n",
              "        document.querySelector('#' + key + ' button');\n",
              "      quickchartButtonEl.disabled = true;  // To prevent multiple clicks.\n",
              "      quickchartButtonEl.classList.add('colab-df-spinner');\n",
              "      try {\n",
              "        const charts = await google.colab.kernel.invokeFunction(\n",
              "            'suggestCharts', [key], {});\n",
              "      } catch (error) {\n",
              "        console.error('Error during call to suggestCharts:', error);\n",
              "      }\n",
              "      quickchartButtonEl.classList.remove('colab-df-spinner');\n",
              "      quickchartButtonEl.classList.add('colab-df-quickchart-complete');\n",
              "    }\n",
              "    (() => {\n",
              "      let quickchartButtonEl =\n",
              "        document.querySelector('#df-bdd0b271-fdd8-46d2-8f86-42bde053f389 button');\n",
              "      quickchartButtonEl.style.display =\n",
              "        google.colab.kernel.accessAllowed ? 'block' : 'none';\n",
              "    })();\n",
              "  </script>\n",
              "</div>\n",
              "\n",
              "    </div>\n",
              "  </div>\n"
            ],
            "application/vnd.google.colaboratory.intrinsic+json": {
              "type": "dataframe",
              "summary": "{\n  \"name\": \"data['iop']\",\n  \"rows\": 5,\n  \"fields\": [\n    {\n      \"column\": \"Source Name\",\n      \"properties\": {\n        \"dtype\": \"string\",\n        \"num_unique_values\": 5,\n        \"samples\": [\n          \"F2\",\n          \"F5\",\n          \"F3\"\n        ],\n        \"semantic_type\": \"\",\n        \"description\": \"\"\n      }\n    },\n    {\n      \"column\": \"Sample Name\",\n      \"properties\": {\n        \"dtype\": \"string\",\n        \"num_unique_values\": 5,\n        \"samples\": [\n          \"F2_Mouse_Eye\",\n          \"F5_Mouse_Eye\",\n          \"F3_Mouse_Eye\"\n        ],\n        \"semantic_type\": \"\",\n        \"description\": \"\"\n      }\n    },\n    {\n      \"column\": \"Factor Value: Spaceflight\",\n      \"properties\": {\n        \"dtype\": \"category\",\n        \"num_unique_values\": 1,\n        \"samples\": [\n          \"Space Flight\"\n        ],\n        \"semantic_type\": \"\",\n        \"description\": \"\"\n      }\n    },\n    {\n      \"column\": \"Left_1\",\n      \"properties\": {\n        \"dtype\": \"number\",\n        \"std\": 1,\n        \"min\": 16,\n        \"max\": 19,\n        \"num_unique_values\": 4,\n        \"samples\": [\n          17\n        ],\n        \"semantic_type\": \"\",\n        \"description\": \"\"\n      }\n    },\n    {\n      \"column\": \"Left_2\",\n      \"properties\": {\n        \"dtype\": \"number\",\n        \"std\": 1,\n        \"min\": 15,\n        \"max\": 18,\n        \"num_unique_values\": 3,\n        \"samples\": [\n          16\n        ],\n        \"semantic_type\": \"\",\n        \"description\": \"\"\n      }\n    },\n    {\n      \"column\": \"Left_3\",\n      \"properties\": {\n        \"dtype\": \"number\",\n        \"std\": 1,\n        \"min\": 15,\n        \"max\": 18,\n        \"num_unique_values\": 3,\n        \"samples\": [\n          18\n        ],\n        \"semantic_type\": \"\",\n        \"description\": \"\"\n      }\n    },\n    {\n      \"column\": \"Avg_Left\",\n      \"properties\": {\n        \"dtype\": \"number\",\n        \"std\": 0.649786291876885,\n        \"min\": 16.33333333,\n        \"max\": 17.66666667,\n        \"num_unique_values\": 3,\n        \"samples\": [\n          17.66666667\n        ],\n        \"semantic_type\": \"\",\n        \"description\": \"\"\n      }\n    },\n    {\n      \"column\": \"Right_1\",\n      \"properties\": {\n        \"dtype\": \"number\",\n        \"std\": 1,\n        \"min\": 14,\n        \"max\": 18,\n        \"num_unique_values\": 4,\n        \"samples\": [\n          16\n        ],\n        \"semantic_type\": \"\",\n        \"description\": \"\"\n      }\n    },\n    {\n      \"column\": \"Right_2\",\n      \"properties\": {\n        \"dtype\": \"number\",\n        \"std\": 1,\n        \"min\": 16,\n        \"max\": 19,\n        \"num_unique_values\": 3,\n        \"samples\": [\n          18\n        ],\n        \"semantic_type\": \"\",\n        \"description\": \"\"\n      }\n    },\n    {\n      \"column\": \"Right_3\",\n      \"properties\": {\n        \"dtype\": \"number\",\n        \"std\": 1,\n        \"min\": 14,\n        \"max\": 17,\n        \"num_unique_values\": 3,\n        \"samples\": [\n          15\n        ],\n        \"semantic_type\": \"\",\n        \"description\": \"\"\n      }\n    },\n    {\n      \"column\": \"Avg_Right\",\n      \"properties\": {\n        \"dtype\": \"number\",\n        \"std\": 1.1642832791512177,\n        \"min\": 14.66666667,\n        \"max\": 17.66666667,\n        \"num_unique_values\": 5,\n        \"samples\": [\n          15.66666667\n        ],\n        \"semantic_type\": \"\",\n        \"description\": \"\"\n      }\n    },\n    {\n      \"column\": \"time_Start\",\n      \"properties\": {\n        \"dtype\": \"object\",\n        \"num_unique_values\": 5,\n        \"samples\": [\n          \"2:55\"\n        ],\n        \"semantic_type\": \"\",\n        \"description\": \"\"\n      }\n    },\n    {\n      \"column\": \"Time_End\",\n      \"properties\": {\n        \"dtype\": \"object\",\n        \"num_unique_values\": 5,\n        \"samples\": [\n          \"2:58\"\n        ],\n        \"semantic_type\": \"\",\n        \"description\": \"\"\n      }\n    }\n  ]\n}"
            }
          },
          "metadata": {},
          "execution_count": 16
        }
      ]
    },
    {
      "cell_type": "markdown",
      "source": [
        "We will be measuring the difference in distributions of the Avg_Left and Avg_Right samples measurements between flight and non-flight samples."
      ],
      "metadata": {
        "id": "nlOuejHKw7ut"
      }
    },
    {
      "cell_type": "markdown",
      "source": [
        "## **Explore the Avg_Left tonometry**\n"
      ],
      "metadata": {
        "id": "DJUt6eJJw-mH"
      }
    },
    {
      "cell_type": "code",
      "source": [
        "m.plotbox_and_stats(data_=data['iop'], sample_key = 'Source Name', field='Avg_Left', treatment='Factor Value: Spaceflight', space=\"Space Flight\", exclude_samples=[])"
      ],
      "metadata": {
        "colab": {
          "base_uri": "https://localhost:8080/",
          "height": 581
        },
        "id": "HwJwatp5xBb2",
        "outputId": "9e3672d1-6934-42b6-852b-0c41eac7bbdd"
      },
      "execution_count": 17,
      "outputs": [
        {
          "output_type": "stream",
          "name": "stdout",
          "text": [
            "field:  Avg_Left\n",
            "excluding samples:  []\n",
            "{'Avg_Left': {'t-test p-value': 0.04627}}\n",
            "n flight =  20\n",
            "n nonflight =  80\n"
          ]
        },
        {
          "output_type": "display_data",
          "data": {
            "text/plain": [
              "<Figure size 640x480 with 1 Axes>"
            ],
            "image/png": "[encoded data removed]"
          },
          "metadata": {}
        }
      ]
    },
    {
      "cell_type": "markdown",
      "source": [
        "## **Explore the Avg_Right tonometry**\n"
      ],
      "metadata": {
        "id": "G5pHC1FsxGkx"
      }
    },
    {
      "cell_type": "code",
      "source": [
        "m.plotbox_and_stats(data_=data['iop'], sample_key = 'Source Name', field='Avg_Right', treatment='Factor Value: Spaceflight', space=\"Space Flight\", exclude_samples=[])"
      ],
      "metadata": {
        "colab": {
          "base_uri": "https://localhost:8080/",
          "height": 586
        },
        "id": "3MOYYukRxIeF",
        "outputId": "a21e141c-65a7-43a6-deff-4dd001fbf5f7"
      },
      "execution_count": 18,
      "outputs": [
        {
          "output_type": "stream",
          "name": "stdout",
          "text": [
            "field:  Avg_Right\n",
            "excluding samples:  []\n",
            "{'Avg_Right': {'t-test p-value': 0.00054}}\n",
            "n flight =  20\n",
            "n nonflight =  80\n"
          ]
        },
        {
          "output_type": "display_data",
          "data": {
            "text/plain": [
              "<Figure size 640x480 with 1 Axes>"
            ],
            "image/png": "[encoded data removed]"
          },
          "metadata": {}
        }
      ]
    },
    {
      "cell_type": "markdown",
      "source": [
        "End of Module 1. <br>\n",
        "In this modle, the purpose was to explore the datasets, how the data has been collected, the method and the reasoning behind the experimental set up and the measurment.\n",
        "\n",
        "In this module we explored 3 different datasets with different method which is understand what spaceflight potentially could affect on eyes. This datasets goal is to understand the effect of microgravity on different biological system.\n",
        "\n",
        "In this module we used t test to calculate p-values and learn about statistical difference between rodents that were flown into space versus ground control."
      ],
      "metadata": {
        "id": "9QJlexrtxTbF"
      }
    }
  ]
}